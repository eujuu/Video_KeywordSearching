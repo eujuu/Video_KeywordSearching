{
  "nbformat": 4,
  "nbformat_minor": 0,
  "metadata": {
    "colab": {
      "name": "TextRank_fin.ipynb",
      "provenance": [],
      "collapsed_sections": []
    },
    "kernelspec": {
      "name": "python3",
      "display_name": "Python 3"
    }
  },
  "cells": [
    {
      "cell_type": "code",
      "metadata": {
        "id": "lL-On6NmLCvH",
        "colab_type": "code",
        "colab": {
          "base_uri": "https://localhost:8080/",
          "height": 143
        },
        "outputId": "9284b6f5-7293-4646-a517-ccce2ea84651"
      },
      "source": [
        "#TextRank \n",
        "!git clone https://github.com/lovit/textrank.git"
      ],
      "execution_count": 1,
      "outputs": [
        {
          "output_type": "stream",
          "text": [
            "Cloning into 'textrank'...\n",
            "remote: Enumerating objects: 4, done.\u001b[K\n",
            "remote: Counting objects: 100% (4/4), done.\u001b[K\n",
            "remote: Compressing objects: 100% (4/4), done.\u001b[K\n",
            "remote: Total 229 (delta 0), reused 0 (delta 0), pack-reused 225\u001b[K\n",
            "Receiving objects: 100% (229/229), 1.21 MiB | 11.60 MiB/s, done.\n",
            "Resolving deltas: 100% (132/132), done.\n"
          ],
          "name": "stdout"
        }
      ]
    },
    {
      "cell_type": "code",
      "metadata": {
        "id": "FZoJtbSiLy7a",
        "colab_type": "code",
        "colab": {}
      },
      "source": [
        ""
      ],
      "execution_count": null,
      "outputs": []
    },
    {
      "cell_type": "code",
      "metadata": {
        "id": "7wr4AdXBt-bp",
        "colab_type": "code",
        "colab": {}
      },
      "source": [
        ""
      ],
      "execution_count": null,
      "outputs": []
    },
    {
      "cell_type": "code",
      "metadata": {
        "id": "2VKwOpeyLIH9",
        "colab_type": "code",
        "colab": {
          "base_uri": "https://localhost:8080/",
          "height": 1000
        },
        "outputId": "310efd0b-6caf-4df0-d0c6-84f833589c67"
      },
      "source": [
        "!apt-get update \n",
        "!apt-get install g++ openjdk-8-jdk python-dev python3-dev \n",
        "import os\n",
        "os.environ['JAVA_HOME']=\"C:\\Program Files\\Java\\jdk-14.0.2\" #환경변수 설정, jdk파일 위치 변경 필요\n",
        "!pip3 install JPype1-py3 \n",
        "!pip3 install konlpy \n",
        "\n"
      ],
      "execution_count": 2,
      "outputs": [
        {
          "output_type": "stream",
          "text": [
            "\r0% [Working]\r            \rIgn:1 https://developer.download.nvidia.com/compute/cuda/repos/ubuntu1804/x86_64  InRelease\n",
            "\r0% [Connecting to archive.ubuntu.com (91.189.88.152)] [Waiting for headers] [Co\r                                                                               \rIgn:2 https://developer.download.nvidia.com/compute/machine-learning/repos/ubuntu1804/x86_64  InRelease\n",
            "\r0% [Waiting for headers] [Waiting for headers] [Connecting to cloud.r-project.o\r                                                                               \rHit:3 http://ppa.launchpad.net/graphics-drivers/ppa/ubuntu bionic InRelease\n",
            "\r0% [Waiting for headers] [Waiting for headers] [Connecting to cloud.r-project.o\r                                                                               \rHit:4 http://archive.ubuntu.com/ubuntu bionic InRelease\n",
            "\r                                                                               \rGet:5 http://security.ubuntu.com/ubuntu bionic-security InRelease [88.7 kB]\n",
            "\r                                                                               \rHit:6 https://developer.download.nvidia.com/compute/cuda/repos/ubuntu1804/x86_64  Release\n",
            "Hit:7 https://developer.download.nvidia.com/compute/machine-learning/repos/ubuntu1804/x86_64  Release\n",
            "Get:8 http://archive.ubuntu.com/ubuntu bionic-updates InRelease [88.7 kB]\n",
            "Get:9 http://ppa.launchpad.net/marutter/c2d4u3.5/ubuntu bionic InRelease [15.4 kB]\n",
            "Get:10 https://cloud.r-project.org/bin/linux/ubuntu bionic-cran35/ InRelease [3,626 B]\n",
            "Get:11 http://archive.ubuntu.com/ubuntu bionic-backports InRelease [74.6 kB]\n",
            "Get:14 http://ppa.launchpad.net/marutter/c2d4u3.5/ubuntu bionic/main Sources [1,876 kB]\n",
            "Get:15 http://security.ubuntu.com/ubuntu bionic-security/universe amd64 Packages [903 kB]\n",
            "Get:16 http://archive.ubuntu.com/ubuntu bionic-updates/main amd64 Packages [1,385 kB]\n",
            "Get:17 http://security.ubuntu.com/ubuntu bionic-security/main amd64 Packages [1,094 kB]\n",
            "Get:18 http://archive.ubuntu.com/ubuntu bionic-updates/universe amd64 Packages [1,430 kB]\n",
            "Get:19 http://ppa.launchpad.net/marutter/c2d4u3.5/ubuntu bionic/main amd64 Packages [906 kB]\n",
            "Fetched 7,866 kB in 3s (2,668 kB/s)\n",
            "Reading package lists... Done\n",
            "Reading package lists... Done\n",
            "Building dependency tree       \n",
            "Reading state information... Done\n",
            "python-dev is already the newest version (2.7.15~rc1-1).\n",
            "g++ is already the newest version (4:7.4.0-1ubuntu2.3).\n",
            "g++ set to manually installed.\n",
            "python3-dev is already the newest version (3.6.7-1~18.04).\n",
            "The following additional packages will be installed:\n",
            "  fonts-dejavu-core fonts-dejavu-extra libatk-wrapper-java\n",
            "  libatk-wrapper-java-jni libxxf86dga1 openjdk-8-jdk-headless openjdk-8-jre\n",
            "  openjdk-8-jre-headless x11-utils\n",
            "Suggested packages:\n",
            "  openjdk-8-demo openjdk-8-source visualvm icedtea-8-plugin libnss-mdns\n",
            "  fonts-ipafont-gothic fonts-ipafont-mincho fonts-wqy-microhei\n",
            "  fonts-wqy-zenhei fonts-indic mesa-utils\n",
            "The following NEW packages will be installed:\n",
            "  fonts-dejavu-core fonts-dejavu-extra libatk-wrapper-java\n",
            "  libatk-wrapper-java-jni libxxf86dga1 openjdk-8-jdk openjdk-8-jdk-headless\n",
            "  openjdk-8-jre openjdk-8-jre-headless x11-utils\n",
            "0 upgraded, 10 newly installed, 0 to remove and 39 not upgraded.\n",
            "Need to get 40.7 MB of archives.\n",
            "After this operation, 153 MB of additional disk space will be used.\n",
            "Get:1 http://archive.ubuntu.com/ubuntu bionic/main amd64 libxxf86dga1 amd64 2:1.1.4-1 [13.7 kB]\n",
            "Get:2 http://archive.ubuntu.com/ubuntu bionic/main amd64 fonts-dejavu-core all 2.37-1 [1,041 kB]\n",
            "Get:3 http://archive.ubuntu.com/ubuntu bionic/main amd64 fonts-dejavu-extra all 2.37-1 [1,953 kB]\n",
            "Get:4 http://archive.ubuntu.com/ubuntu bionic/main amd64 x11-utils amd64 7.7+3build1 [196 kB]\n",
            "Get:5 http://archive.ubuntu.com/ubuntu bionic/main amd64 libatk-wrapper-java all 0.33.3-20ubuntu0.1 [34.7 kB]\n",
            "Get:6 http://archive.ubuntu.com/ubuntu bionic/main amd64 libatk-wrapper-java-jni amd64 0.33.3-20ubuntu0.1 [28.3 kB]\n",
            "Get:7 http://archive.ubuntu.com/ubuntu bionic-updates/universe amd64 openjdk-8-jre-headless amd64 8u265-b01-0ubuntu2~18.04 [27.5 MB]\n",
            "Get:8 http://archive.ubuntu.com/ubuntu bionic-updates/universe amd64 openjdk-8-jre amd64 8u265-b01-0ubuntu2~18.04 [69.6 kB]\n",
            "Get:9 http://archive.ubuntu.com/ubuntu bionic-updates/universe amd64 openjdk-8-jdk-headless amd64 8u265-b01-0ubuntu2~18.04 [8,262 kB]\n",
            "Get:10 http://archive.ubuntu.com/ubuntu bionic-updates/universe amd64 openjdk-8-jdk amd64 8u265-b01-0ubuntu2~18.04 [1,610 kB]\n",
            "Fetched 40.7 MB in 2s (20.3 MB/s)\n",
            "Selecting previously unselected package libxxf86dga1:amd64.\n",
            "(Reading database ... 144676 files and directories currently installed.)\n",
            "Preparing to unpack .../0-libxxf86dga1_2%3a1.1.4-1_amd64.deb ...\n",
            "Unpacking libxxf86dga1:amd64 (2:1.1.4-1) ...\n",
            "Selecting previously unselected package fonts-dejavu-core.\n",
            "Preparing to unpack .../1-fonts-dejavu-core_2.37-1_all.deb ...\n",
            "Unpacking fonts-dejavu-core (2.37-1) ...\n",
            "Selecting previously unselected package fonts-dejavu-extra.\n",
            "Preparing to unpack .../2-fonts-dejavu-extra_2.37-1_all.deb ...\n",
            "Unpacking fonts-dejavu-extra (2.37-1) ...\n",
            "Selecting previously unselected package x11-utils.\n",
            "Preparing to unpack .../3-x11-utils_7.7+3build1_amd64.deb ...\n",
            "Unpacking x11-utils (7.7+3build1) ...\n",
            "Selecting previously unselected package libatk-wrapper-java.\n",
            "Preparing to unpack .../4-libatk-wrapper-java_0.33.3-20ubuntu0.1_all.deb ...\n",
            "Unpacking libatk-wrapper-java (0.33.3-20ubuntu0.1) ...\n",
            "Selecting previously unselected package libatk-wrapper-java-jni:amd64.\n",
            "Preparing to unpack .../5-libatk-wrapper-java-jni_0.33.3-20ubuntu0.1_amd64.deb ...\n",
            "Unpacking libatk-wrapper-java-jni:amd64 (0.33.3-20ubuntu0.1) ...\n",
            "Selecting previously unselected package openjdk-8-jre-headless:amd64.\n",
            "Preparing to unpack .../6-openjdk-8-jre-headless_8u265-b01-0ubuntu2~18.04_amd64.deb ...\n",
            "Unpacking openjdk-8-jre-headless:amd64 (8u265-b01-0ubuntu2~18.04) ...\n",
            "Selecting previously unselected package openjdk-8-jre:amd64.\n",
            "Preparing to unpack .../7-openjdk-8-jre_8u265-b01-0ubuntu2~18.04_amd64.deb ...\n",
            "Unpacking openjdk-8-jre:amd64 (8u265-b01-0ubuntu2~18.04) ...\n",
            "Selecting previously unselected package openjdk-8-jdk-headless:amd64.\n",
            "Preparing to unpack .../8-openjdk-8-jdk-headless_8u265-b01-0ubuntu2~18.04_amd64.deb ...\n",
            "Unpacking openjdk-8-jdk-headless:amd64 (8u265-b01-0ubuntu2~18.04) ...\n",
            "Selecting previously unselected package openjdk-8-jdk:amd64.\n",
            "Preparing to unpack .../9-openjdk-8-jdk_8u265-b01-0ubuntu2~18.04_amd64.deb ...\n",
            "Unpacking openjdk-8-jdk:amd64 (8u265-b01-0ubuntu2~18.04) ...\n",
            "Setting up fonts-dejavu-core (2.37-1) ...\n",
            "Setting up libxxf86dga1:amd64 (2:1.1.4-1) ...\n",
            "Setting up fonts-dejavu-extra (2.37-1) ...\n",
            "Setting up openjdk-8-jre-headless:amd64 (8u265-b01-0ubuntu2~18.04) ...\n",
            "update-alternatives: using /usr/lib/jvm/java-8-openjdk-amd64/jre/bin/orbd to provide /usr/bin/orbd (orbd) in auto mode\n",
            "update-alternatives: using /usr/lib/jvm/java-8-openjdk-amd64/jre/bin/servertool to provide /usr/bin/servertool (servertool) in auto mode\n",
            "update-alternatives: using /usr/lib/jvm/java-8-openjdk-amd64/jre/bin/tnameserv to provide /usr/bin/tnameserv (tnameserv) in auto mode\n",
            "Setting up openjdk-8-jdk-headless:amd64 (8u265-b01-0ubuntu2~18.04) ...\n",
            "update-alternatives: using /usr/lib/jvm/java-8-openjdk-amd64/bin/idlj to provide /usr/bin/idlj (idlj) in auto mode\n",
            "update-alternatives: using /usr/lib/jvm/java-8-openjdk-amd64/bin/wsimport to provide /usr/bin/wsimport (wsimport) in auto mode\n",
            "update-alternatives: using /usr/lib/jvm/java-8-openjdk-amd64/bin/jsadebugd to provide /usr/bin/jsadebugd (jsadebugd) in auto mode\n",
            "update-alternatives: using /usr/lib/jvm/java-8-openjdk-amd64/bin/native2ascii to provide /usr/bin/native2ascii (native2ascii) in auto mode\n",
            "update-alternatives: using /usr/lib/jvm/java-8-openjdk-amd64/bin/javah to provide /usr/bin/javah (javah) in auto mode\n",
            "update-alternatives: using /usr/lib/jvm/java-8-openjdk-amd64/bin/clhsdb to provide /usr/bin/clhsdb (clhsdb) in auto mode\n",
            "update-alternatives: using /usr/lib/jvm/java-8-openjdk-amd64/bin/jhat to provide /usr/bin/jhat (jhat) in auto mode\n",
            "update-alternatives: using /usr/lib/jvm/java-8-openjdk-amd64/bin/extcheck to provide /usr/bin/extcheck (extcheck) in auto mode\n",
            "update-alternatives: using /usr/lib/jvm/java-8-openjdk-amd64/bin/hsdb to provide /usr/bin/hsdb (hsdb) in auto mode\n",
            "update-alternatives: using /usr/lib/jvm/java-8-openjdk-amd64/bin/schemagen to provide /usr/bin/schemagen (schemagen) in auto mode\n",
            "update-alternatives: using /usr/lib/jvm/java-8-openjdk-amd64/bin/xjc to provide /usr/bin/xjc (xjc) in auto mode\n",
            "update-alternatives: using /usr/lib/jvm/java-8-openjdk-amd64/bin/wsgen to provide /usr/bin/wsgen (wsgen) in auto mode\n",
            "Setting up x11-utils (7.7+3build1) ...\n",
            "Setting up libatk-wrapper-java (0.33.3-20ubuntu0.1) ...\n",
            "Setting up libatk-wrapper-java-jni:amd64 (0.33.3-20ubuntu0.1) ...\n",
            "Setting up openjdk-8-jre:amd64 (8u265-b01-0ubuntu2~18.04) ...\n",
            "update-alternatives: using /usr/lib/jvm/java-8-openjdk-amd64/jre/bin/policytool to provide /usr/bin/policytool (policytool) in auto mode\n",
            "Setting up openjdk-8-jdk:amd64 (8u265-b01-0ubuntu2~18.04) ...\n",
            "update-alternatives: using /usr/lib/jvm/java-8-openjdk-amd64/bin/appletviewer to provide /usr/bin/appletviewer (appletviewer) in auto mode\n",
            "update-alternatives: using /usr/lib/jvm/java-8-openjdk-amd64/bin/jconsole to provide /usr/bin/jconsole (jconsole) in auto mode\n",
            "Processing triggers for man-db (2.8.3-2ubuntu0.1) ...\n",
            "Processing triggers for hicolor-icon-theme (0.17-2) ...\n",
            "Processing triggers for fontconfig (2.12.6-0ubuntu2) ...\n",
            "Processing triggers for mime-support (3.60ubuntu1) ...\n",
            "Processing triggers for libc-bin (2.27-3ubuntu1.2) ...\n",
            "/sbin/ldconfig.real: /usr/local/lib/python3.6/dist-packages/ideep4py/lib/libmkldnn.so.0 is not a symbolic link\n",
            "\n",
            "Collecting JPype1-py3\n",
            "\u001b[?25l  Downloading https://files.pythonhosted.org/packages/9b/81/63f5e4202c598f362ee4684b41890f993d6e58309c5d90703f570ab85f62/JPype1-py3-0.5.5.4.tar.gz (88kB)\n",
            "\u001b[K     |████████████████████████████████| 92kB 2.4MB/s \n",
            "\u001b[?25hBuilding wheels for collected packages: JPype1-py3\n",
            "  Building wheel for JPype1-py3 (setup.py) ... \u001b[?25l\u001b[?25hdone\n",
            "  Created wheel for JPype1-py3: filename=JPype1_py3-0.5.5.4-cp36-cp36m-linux_x86_64.whl size=2686238 sha256=6c74624db32b942acfd283dc164025749ee3060b2da58cac38b374580ff075dc\n",
            "  Stored in directory: /root/.cache/pip/wheels/52/37/1f/1015d908d12a0e9b239543d031fda0cded9823aa1306939541\n",
            "Successfully built JPype1-py3\n",
            "Installing collected packages: JPype1-py3\n",
            "Successfully installed JPype1-py3-0.5.5.4\n",
            "Collecting konlpy\n",
            "\u001b[?25l  Downloading https://files.pythonhosted.org/packages/85/0e/f385566fec837c0b83f216b2da65db9997b35dd675e107752005b7d392b1/konlpy-0.5.2-py2.py3-none-any.whl (19.4MB)\n",
            "\u001b[K     |████████████████████████████████| 19.4MB 1.5MB/s \n",
            "\u001b[?25hCollecting JPype1>=0.7.0\n",
            "\u001b[?25l  Downloading https://files.pythonhosted.org/packages/8b/f7/a368401e630f0e390dd0e62c39fb928e5b23741b53c2360ee7d376660927/JPype1-1.0.2-cp36-cp36m-manylinux2010_x86_64.whl (3.8MB)\n",
            "\u001b[K     |████████████████████████████████| 3.8MB 40.0MB/s \n",
            "\u001b[?25hRequirement already satisfied: lxml>=4.1.0 in /usr/local/lib/python3.6/dist-packages (from konlpy) (4.2.6)\n",
            "Collecting colorama\n",
            "  Downloading https://files.pythonhosted.org/packages/c9/dc/45cdef1b4d119eb96316b3117e6d5708a08029992b2fee2c143c7a0a5cc5/colorama-0.4.3-py2.py3-none-any.whl\n",
            "Requirement already satisfied: numpy>=1.6 in /usr/local/lib/python3.6/dist-packages (from konlpy) (1.18.5)\n",
            "Collecting tweepy>=3.7.0\n",
            "  Downloading https://files.pythonhosted.org/packages/bb/7c/99d51f80f3b77b107ebae2634108717362c059a41384a1810d13e2429a81/tweepy-3.9.0-py2.py3-none-any.whl\n",
            "Collecting beautifulsoup4==4.6.0\n",
            "\u001b[?25l  Downloading https://files.pythonhosted.org/packages/9e/d4/10f46e5cfac773e22707237bfcd51bbffeaf0a576b0a847ec7ab15bd7ace/beautifulsoup4-4.6.0-py3-none-any.whl (86kB)\n",
            "\u001b[K     |████████████████████████████████| 92kB 9.1MB/s \n",
            "\u001b[?25hRequirement already satisfied: typing-extensions; python_version < \"3.8\" in /usr/local/lib/python3.6/dist-packages (from JPype1>=0.7.0->konlpy) (3.7.4.3)\n",
            "Requirement already satisfied: requests[socks]>=2.11.1 in /usr/local/lib/python3.6/dist-packages (from tweepy>=3.7.0->konlpy) (2.23.0)\n",
            "Requirement already satisfied: requests-oauthlib>=0.7.0 in /usr/local/lib/python3.6/dist-packages (from tweepy>=3.7.0->konlpy) (1.3.0)\n",
            "Requirement already satisfied: six>=1.10.0 in /usr/local/lib/python3.6/dist-packages (from tweepy>=3.7.0->konlpy) (1.15.0)\n",
            "Requirement already satisfied: chardet<4,>=3.0.2 in /usr/local/lib/python3.6/dist-packages (from requests[socks]>=2.11.1->tweepy>=3.7.0->konlpy) (3.0.4)\n",
            "Requirement already satisfied: idna<3,>=2.5 in /usr/local/lib/python3.6/dist-packages (from requests[socks]>=2.11.1->tweepy>=3.7.0->konlpy) (2.10)\n",
            "Requirement already satisfied: certifi>=2017.4.17 in /usr/local/lib/python3.6/dist-packages (from requests[socks]>=2.11.1->tweepy>=3.7.0->konlpy) (2020.6.20)\n",
            "Requirement already satisfied: urllib3!=1.25.0,!=1.25.1,<1.26,>=1.21.1 in /usr/local/lib/python3.6/dist-packages (from requests[socks]>=2.11.1->tweepy>=3.7.0->konlpy) (1.24.3)\n",
            "Requirement already satisfied: PySocks!=1.5.7,>=1.5.6; extra == \"socks\" in /usr/local/lib/python3.6/dist-packages (from requests[socks]>=2.11.1->tweepy>=3.7.0->konlpy) (1.7.1)\n",
            "Requirement already satisfied: oauthlib>=3.0.0 in /usr/local/lib/python3.6/dist-packages (from requests-oauthlib>=0.7.0->tweepy>=3.7.0->konlpy) (3.1.0)\n",
            "Installing collected packages: JPype1, colorama, tweepy, beautifulsoup4, konlpy\n",
            "  Found existing installation: tweepy 3.6.0\n",
            "    Uninstalling tweepy-3.6.0:\n",
            "      Successfully uninstalled tweepy-3.6.0\n",
            "  Found existing installation: beautifulsoup4 4.6.3\n",
            "    Uninstalling beautifulsoup4-4.6.3:\n",
            "      Successfully uninstalled beautifulsoup4-4.6.3\n",
            "Successfully installed JPype1-1.0.2 beautifulsoup4-4.6.0 colorama-0.4.3 konlpy-0.5.2 tweepy-3.9.0\n"
          ],
          "name": "stdout"
        }
      ]
    },
    {
      "cell_type": "code",
      "metadata": {
        "id": "Esanlju4LIFk",
        "colab_type": "code",
        "colab": {}
      },
      "source": [
        "#textrank에서 사용하기 위한 토크나이저 설정\n",
        "from konlpy.tag import Komoran\n",
        "komoran = Komoran()\n",
        "def komoran_tokenize(sent):\n",
        "  words = komoran.pos(sent, join = True)\n",
        "  words = [w for w in words if ('/NN' in w  )]\n",
        "  return words"
      ],
      "execution_count": 3,
      "outputs": []
    },
    {
      "cell_type": "code",
      "metadata": {
        "id": "FfMhgYjOcfM0",
        "colab_type": "code",
        "colab": {
          "base_uri": "https://localhost:8080/",
          "height": 179
        },
        "outputId": "6aac4517-f8ee-4d45-efc7-d75b20d9b220"
      },
      "source": [
        "#문장분리를 위해 kss설치\n",
        "!pip install kss\n",
        "import kss"
      ],
      "execution_count": 4,
      "outputs": [
        {
          "output_type": "stream",
          "text": [
            "Collecting kss\n",
            "  Downloading https://files.pythonhosted.org/packages/fc/bb/4772901b3b934ac204f32a0bd6fc0567871d8378f9bbc7dd5fd5e16c6ee7/kss-1.3.1.tar.gz\n",
            "Building wheels for collected packages: kss\n",
            "  Building wheel for kss (setup.py) ... \u001b[?25l\u001b[?25hdone\n",
            "  Created wheel for kss: filename=kss-1.3.1-cp36-cp36m-linux_x86_64.whl size=251560 sha256=fe41bdafdd6c1ef507702bb9552eead582b634de6ab4c5fdff18367d4324f918\n",
            "  Stored in directory: /root/.cache/pip/wheels/8b/98/d1/53f75f89925cd95779824778725ee3fa36e7aa55ed26ad54a8\n",
            "Successfully built kss\n",
            "Installing collected packages: kss\n",
            "Successfully installed kss-1.3.1\n"
          ],
          "name": "stdout"
        }
      ]
    },
    {
      "cell_type": "code",
      "metadata": {
        "id": "0e7RW5MdLIC2",
        "colab_type": "code",
        "colab": {}
      },
      "source": [
        "from konlpy.tag import *\n",
        "kkma = Kkma()\n",
        "#저장된 파일 불러오기\n",
        "scripts = []\n",
        "with open('/content/drive/My Drive/hana_script.txt', 'r') as f:\n",
        "  para = f.readlines()\n",
        "  for line in para:\n",
        "    scripts.append(line.rstrip())\n",
        "scr_time = []\n",
        "with open('/content/drive/My Drive/hana_script_timestamps_ver2.txt', 'r') as f:\n",
        "  data = f.readlines()\n",
        "  for line in data:\n",
        "   scr_time.append(line.rstrip())\n",
        "new_scr_time = []\n",
        "for w in scr_time:\n",
        "    new_scr_time.append(w.split(', '))\n"
      ],
      "execution_count": 5,
      "outputs": []
    },
    {
      "cell_type": "code",
      "metadata": {
        "id": "Csswy7QVc90F",
        "colab_type": "code",
        "colab": {
          "base_uri": "https://localhost:8080/",
          "height": 1000
        },
        "outputId": "f4d247e2-7874-402c-86dd-05c4400664f1"
      },
      "source": [
        "ex_sent = [] #분리할 문장을 저장\n",
        "for sen in scripts:\n",
        "  '''\n",
        "  #kss방식으로 문장 분리\n",
        "  for sent in kss.split_sentences(sen): \n",
        "    ex_sent.append(sent)\n",
        "  '''\n",
        "  ex_sent.extend(kkma.sentences(sen)) # kkma방식으로 문장 분리\n",
        "ex_sent"
      ],
      "execution_count": 6,
      "outputs": [
        {
          "output_type": "execute_result",
          "data": {
            "text/plain": [
              "['쭈쭈 쭈쭈 쭈쭈',\n",
              " '트랜스포머',\n",
              " '7월 24일 아침 모닝 미팅방송 시작하도록 하겠습니다',\n",
              " '우선 전일 글로벌 주식 동향 먼저 말씀 드리도록 하겠습니다',\n",
              " '안녕하십니까',\n",
              " '새벽입니다',\n",
              " '전 일 국내외 증시 동향 말씀 드리겠습니다',\n",
              " '전 일 국내 증시는 혼 조세를 보였습니다',\n",
              " '코스 피는 미 중 갈등 시마 한국 2 분기 gdp 성장률 예상치를 대비하 왜 다른 침체기 무료로 기관과 외국인이 중 대형주 중심 매도 세가 출연하며 사랑 마감했습니다',\n",
              " '코스닥은 외국인의 대 영주 중심 매수세의 입으로 연중 최고치를 경신했다 800 대로 상승했습니다',\n",
              " '일본 증시는 해양의 날을 맞아 확장했습니다',\n",
              " '중국 증시는 경기회복 기대감 커진 가운데 미 중 갈등 우려가 고조되면 혼 조 마감했습니다',\n",
              " '미 국무부는 중국 정부의 휴스턴 주제에 중국 총영사관을 72 시간 내에 철수 할 것을 요구했습니다',\n",
              " '또 한 트럼프 대통령은 더 많은 중국 영사관을 폐쇄 하라는 명령을 할 수 있다고',\n",
              " '시 사하는 등 미 중 갈등 이시 마 되었습니다',\n",
              " '장염 유럽 증시는 경기침체와 추가 부양 책에 대한 기대가 뒤적이면 혼자 엄마가 믿고 미국 증시는 고용 지표 부진에 하라고 마감했습니다',\n",
              " '지난주 미국 신규 실업 수당 청구 건수는 142만 건으로 전주대비 11만건 증가 16주 만에 증가세로 전환했으며 it 커뮤니케이션 서비스 자유 소비재 섹터가 약 재를 주도했습니다',\n",
              " '다만 경기침체를 만나기 위해 미국 백악관과 공화당이 추가 경기 부양책을 추진하기로 관점은 증시의 긍정적으로 작용했습니다',\n",
              " '이상입니다',\n",
              " '발표를 부분은 채권 부분 관련해서 본드 톡 자료 이미 선 정관 계속 발표 어떻게 도록 하겠습니다',\n",
              " '네 안녕하세요',\n",
              " '채권 담당하는 이전입니다',\n",
              " '한 주가 국내채권 금리는 줘 7월 금통위 후에 경기 둔화에 달려가 부각된 점 그리고 미국에서의 코로나 확산 속도가 빨라 지고 있는 점 그리고 외국인의 국제 선물이 매수가 그냥 들고 있는 이런 부분들을 개인을 해서 3년 가시면 금리가 아까 3dpc 카 락을 했습니다',\n",
              " '그리고 어제 발표됐던 국내 GDP는 전 분기대비 3.3% 감사했고요',\n",
              " '시 장 예상 - 2 번지 내외 정도를 크게 회의를 했습니다',\n",
              " '그리고 2008년 4 분기 -3% 기록했던 것보다도 - 4부 적 없고요',\n",
              " '가장 많이 - 기 열 했던 거는 17입니다',\n",
              " '수술 전 분기 대비 17% 감소했고 건설투자는 설비투자도 갈까 1.3% 2.9% 씨 카 락을 했습니다',\n",
              " '그래서 지금 일단 상반기에 어떤 송 창식 않았기 때문에 하반기 얼마가 나와야 연관이 얼마가 나올지 이런 것 들을 대략 계산이 가능한 데요 삼사 분기 연속으로 지금',\n",
              " '지표 균 형상을 했을 때 연간 성장률은 -1% 가 나오고 되고요',\n",
              " '평균 3사 분기 1% 씨 성장을 한다고 했을 때는 거의 -2% 가까운 위축을 나타내 걸로 보입니다',\n",
              " '과거 평균 분기 송장 0.7% 없기 때문에 사실 지금 나오는 이 정도의 수치도 달성하기가 만만치 나는 그런 부분입니다',\n",
              " '앞으로 한국은행이 언제쯤 다시 이상 할 수 있느냐에 대해서는 일단 GDP가 장기적인 성장 경로에 근접하지 정도까지 회복될 필요가 있는데요 2008년 금융위기 당시를 되돌아보면 상당히 오랜 시간이 걸렸습니다',\n",
              " '미국 같은 경우에는 금융위기 이후에 4년 8개월 시간이 걸리는 이후에 자산 매입 규모를 줄인데 버린 고령 확인했고요',\n",
              " '한국은 첫 근무 이상까지 1년 씩 깨워 정도가 소요됐습니다',\n",
              " '지금 한국이나 미국이나 좀 정책당국이 아마 우려를 하고 있는 거는 실업이라는 부분이 장기적으로 고창까지 가능성입니다',\n",
              " '그렇게 되면 은 제한 경제가 성장할 수 있는 잠재성장',\n",
              " '여력 자체가 이제 밑으로 떨어져 버리는 때문인데요 금융위기 당시 해도 금요일 되기 전에 송장 종로는 이런 경우를 따라갔습니다',\n",
              " '금융 위가 한번 발생하고 나서 이후에 이제 경로는 다다를 수 없게 되고 새로운 기울기가 낮 아진 경로를 따라 가게 됩니다',\n",
              " '이 부분은 영구적인 GDP 현상이 발생을 하게 된 거 고요 지금도 마찬가지로 호랑 나비 전에는 이런 속 경기성장 가능했다면 아마 이후에는 이거보다 낮 아진 이런 속도가 될 거로 보입니다',\n",
              " '그리고 구조적으로 송장 등록 아 나 자야지',\n",
              " '이제 위험이 있기 때문에 이제 코로나가 어떤 기록 한다면 은 이런 어떤 잠재적인 성장이나 자지 위험이 있다라는 부분입니다',\n",
              " 'GDP 같은 경우에 2 분기에 이제 수출 쪽에서 2 - 기호도 가 이제 상당히 이제 커졌습니다',\n",
              " '그래서 이제 이런 것 들을 감안했을 때 이제 국내에는 통화정책은 당분간 계속 동교 상태를 이용하게 될 걸로 예상을 하고 있고요',\n",
              " '이러한 어떤 눈높이에 대한 성장률이다 눈높이 하양은',\n",
              " '스프레드 축소 부작용 할 것이고 국고 3년 가시면 내가 꽉 0.75 1.2 공까지 하락할 것으로 예상하고 있습니다',\n",
              " '항상 다 드리도록 하겠습니다',\n",
              " '미안하니까 자전거 타 기를 박 성진입니다',\n",
              " '일단 한번 브라질 관련 내용 좀 말씀 드릴 거 고요 간단하게 또 유럽 쪽 최근에 내용들을 좀 같이 말씀드리도록 하겠습니다',\n",
              " '계속 좀 가져 있다가 그 지금 퇴근 2 3일 동안 좀 배 너설정 커지고 있는 상태 고요 일단은 조금 이제 강세 반등을 좀 나오면서 원 달러 환율 좀 1억 3천 원대로 좀 올라왔습니다',\n",
              " '배경으로 3가지 좀 보면 은 일단 달러 약세 북면에서 지금 최근에 그 현장에서 좀 차려 라 가지고 나타나고 있는 분들 한번 보실 필요가 있을 것 같고요',\n",
              " '다음에 이제 최악의 시기 확인했다는 안도감 될까 경제성 전망치 나 이런 부분들이 좀 과도하게 좀 하향조정 되었다가 조금씩 수영 되고 있는 과정입니다',\n",
              " '그리고 아 지금 정부가 세제개혁 시도하는 보면 다 이렇게 세 가지를 볼 수가 있는데 일단 먼저 그 달러 약세 관련해 가지고 오지 왜 화장 분위기도 좀 보시면 은 일단 정확하게 말하면 달러 약세 라기보다는 유럽 강세를 보이는 게 맞다라는 생각을 하고 있습니다',\n",
              " '일단은 뭐 이번 주에 뉴스를 많이 보셨고 제 최근에 자료 들어와서 계속 말씀',\n",
              " '많은 유럽연합이 지금 경제회복 기금조성 아니 이 거 합의를 했는데요 이 부분에 있어 가지고 제가 조금 과장해서 말씀드리면 은 이거는 좀 장기적으로 보면 미국과 같은 형태가 될 수 있는 연방국가 형태로 될 수 있는 일이 초안이 마련됐다고',\n",
              " '좀 된다 해서 지금 재정정책을 지금 추가적으로 좀 쓸 수 있는 부분들이 이제는 좀 필요한 부분에 그냥 선택적으로 쓸 수 있는 상황이 되기 때문에 유럽이 향후에는 경제의 대응하는 데 있어서 그동안 좀 아킬레스건으로 계속 지적되었던 부분이 해소되었다 해서 대학 간다고 좀 될 거 같고요',\n",
              " '조한 혜 정 디테일을 부분 중에 저희가 주목해야 하는 분당 보면 은 지점까지 는 예상이나 이런 부분들에 대해서는 만장일치로 결정을 해야 되는 부분들이 있었는데 지금 인제 거부권을 행사할 수 있게 됐습니다',\n",
              " '근데 거부권을 어떤 구간 불만 있어 가지고 어떠한 대해서 반대를 하게 되면 은 비트에 대해서 일정기간만 논의를 할 수 있게 됐고 결국은 EU 집행위원회 내가 이거를 최종 결정하게 만들었습니다',\n",
              " '결국은 불만이',\n",
              " '집행위원회가 정부처럼 끌고 나간다는 부분으로 보시면 될 거 같고요',\n",
              " '이런 부분들이 결국은 아이 유럽 유럽 국가들의 위기상황에서의 대흥 역에서 높여 주는 그동안 약점으로 압구정 저희가 봤던 해결되는 부분으로 보증 될 거 같고 이 가운데서 일단은 외환시장 분위기는 애 나는 정책은행 보세구역 원 달러 환율 만 보셔도 변동성이 상당히 달러 인덱스 하라고 하는 거에 비해서 움직이지 않고 있다는 거 줄 수 있을 것 같습니다',\n",
              " '국 면 별로 차별화 현상들이 계속 나타나고 있다는 보존되고 브라질 같은 경우는 일단은 못 풀어 놔 기준은 여전히 괜찮아 좀 가게 좀 다녀야 되고 있지 많은 성장률 전망치가 굉장히 가장 많이 하양 됐던 나라 중에 하나가 때문에 2분들이 올라오는 것 들이 좀 하는 애는 좀 긍정적으로 작용하고 있다 보시면 되고요',\n",
              " '지금 일단은 그 1차 세제개혁 한들 뭐 찾으시는 그동안 정치 확실성들을 커지면서 불가 하다라고 인제 인식이 좀 됐던 부분들이 그냥 조심스럽게 계속되고 있는 분들이 일단은 재정 측면에서 그리고 또 경제 측면에서 긍정적인 역할을 할 수 있을걸',\n",
              " '지금 어쨌든 정책이라고 통화정책도 짐이 많이 내렸어 놨고 어쨌든 의미 있지만은 일단 부채 부담 있기 때문에 일단은 최악의 상황을 좀 피하면서 단계별로 환율이 좀 회복할 수 있는 그 팀에서 좀 계단식으로 올라갈 수 있는 아 그럼 국면으로 부자 될 거 같고요',\n",
              " '지금 들리는 다다음 주에 통화정책회의를 텐데 추가금리 인하 여력은 차례 정도 제한적으로 이따가 보고 있으면서 금리는 제한 적인 부분들 이거 통 화가치 쪽에서 해 조금 이제 모멘텀이 남아 있다 이 정도 보시면 될 것 같습니다',\n",
              " '자 세한 내용 자료 참조 부탁드리겠습니다',\n",
              " '감사합니다',\n",
              " '연속으로 설치자료 발표 드리도록 하겠습니다',\n",
              " '최근에 기업들이 실적발표가 있으니까 한국 기업들도 같이 묶어서 말씀을 드리도록 하겠습니다',\n",
              " '우선 황숙현 영국에서 마이크로 소프트 하고 국내에 쓰신 게 더블유게임즈주가 드리도록 하겠습니다',\n",
              " '스틱입니다',\n",
              " '그 마이크로 소프트 실적이 나왔고요',\n",
              " '2차 말씀 드린 대로 엄 택 주 들 실적이 잘 나오고 있습니다',\n",
              " '뭐 예상보다 더 잘 나오고 있는 산',\n",
              " '마이크로 소프트 같은 경우도 외출해 그다음에 영업이익 나 시장 예상치를 상실했습니다',\n",
              " '전체적으로 클라우드 매출이 좋았다라고 보셔야 될 것 같고요',\n",
              " '뭐 대표 상품이 아이 조 메 추가 경우는 와이 파이로 47% 정도 증가를 했다라고 그 기록을 하고 있습니다',\n",
              " '이번 실적은 전체적으로 제클라우드 부분에서 이제 실적이 잘 나왔고 그 다음에 락 다운 관련해서 게임 관련된 부분하고 관련 서비스 매출하고 다음에 이제 그 하드웨어 매출 이런 부분이 고르게 성장을 하면서 전체적으로 실적이 잘 나왔고요',\n",
              " '전반적으로 이제 그 경기 면세점 비탄력적이 다라는 특성 때문에 이런 엄 택 주 들 주가가 주가도 그렇고 실적도 로 코 잘 흘러가고 있는 상황인데 뭐 가이드 자체는 오늘 보수적으로 주고 있습니다',\n",
              " '실적 예상보다 잘 나올 걸로 예상을 하고 있기 때문에 전체적으로 좀 긍정적인 관점 유지한 다라고 보시면 될 거 같고요',\n",
              " '여기 보시면 은 클라우드 관련된 서비스들 그다음에 뭐 하다',\n",
              " '관련된 서비스 들고 윈도 우 소피아 서비스를 전체적으로 실적이 잘 나오고 있는 상황입니다',\n",
              " '다음 어제 그 더블유게임 즈 실적 발표 했는데요 일단은 실적이 좋은 세상을 했는데 거 보다 더 좋았습니다',\n",
              " '사실은 그 뭐 그 북미시장에서 이제 코로나 여파가 생각보다 긍정적인 기어를 했고 지난 4 분기부터 이제 마케팅을 좀 공격적으로 했었는데 그런 부분들이 이제 성과를 더 하고 있더라고 오시면 될 거 같고요',\n",
              " '매출 같은 경우는 와이 파이로 45% 정도 증가했고 그 북미시장에 이제 그 사이 플레이라고 경쟁사가 있거든요 그 사람들이 게임에서 자외선 데이 회사도 실적 나오는 실적이 나왔는데 매출한 40% 정도 생각을 하면서 장 흥에서 뭐 상당히 많이 올라가고 있는 상황입니다',\n",
              " '그래서 전체적으로 이쪽은 분위기가 좋다라고 보시면 될 거 같고요',\n",
              " '뭐 더블유 카지노 더 불당 더블다운 카지노 실적이 전반적으로 다 주었습니다',\n",
              " '그리고 영업이 부분은 뭐 잘 나왔는데 실제로 이제 30억 정도 그 성과가',\n",
              " '1시 반영된 것까지 죄를 하면 이거보다 훨씬 더 좋더라고 보고 있습니다',\n",
              " '관련해서 시장 이제 궁금했던 부분들은 자회사가 상장하는 어떻게 될 거냐',\n",
              " '한번 지연이 됐는데 이 전에도 말씀드렸지만 전화해 보기 될 수 있다라고 말씀 드릴 수 있는 게 기본적으로 이모 실적이 잘 나오면서 edit 자체가 그 상장 추진 지정되면서 좀 상향조정이 될 걸로 예상을 하고 있습니다',\n",
              " '그래서 30% 이상 사용 정도 되지 않을까라고 판단하고 있고요',\n",
              " '최근에 저희가 추종 한 건드려도 10% 이상 그 상영 중 여 지가 있기 때문에 전체적으로 재상장을 추진 하반기 정도에 그 하반기 안에 이제 사냥 추진할 예정이 다고 요거가 마늘 하면 뭐 연결 같이 재평가는 이제 이전 대해서 더욱 클 수 있다라고 보고 있습니다',\n",
              " '그래서 실적 좋고 그다음에 연결 같이 재평가되는 부분들까지 감안하면 전체적으로 주가 흐름은 그 자리에서 상장 마무리되는 2 층 까지는 괜찮지 않을까라고 예상을 하고 있습니다',\n",
              " '이상입니다',\n",
              " '이여송',\n",
              " '영국에서 테슬라 발표 되고요',\n",
              " '그리고 현대 차 하고 기아 차도 목표주가를 모두 다 상영 조정했습니다',\n",
              " '같이 발표 드리겠습니다',\n",
              " '네이버 테슬라 2 분기 실적 나왔는데 뭐 인제 승아가 많이 대치면 4번 연속 흑자를 기록을 했습니다',\n",
              " '판매는 얼마 전에 나왔기 때문에 간단하게 말씀드리면 5% 전 년 동월대비 동기 대비 빠졌고요',\n",
              " '코로나 영향이라고 보시면 됩니다',\n",
              " '판매가 5% 빠지면서 매출도 프로 빠졌는데 반면에 영업이익은 흑자전환을 하면서 5.4% 이익률을 기록을 했습니다',\n",
              " '자동차 부분에서의 영어 매출 총이익률이 25.4% 기록을 하면서 전년 동 월대비 6.5% 동기 대비 6.5% 포인트가 상승한 게 큰 이유입니다',\n",
              " '그리고 그거 말고도 그 저기 크레딧 판매하면서 그게 빠르게 성장을 하면서 어 그 정도 상당히 좋았습니다',\n",
              " '오래 연간 판매목표 50만 대',\n",
              " '유지 하고 있고요',\n",
              " '다메섹에 지역에서 해서 공장건설 하고 있다라고 밝히고 있습니다',\n",
              " '미국에서 모델 y 생산하고 중국 공장 증상을 하고요',\n",
              " '그 다음에 독일 공장건설을 있습니다',\n",
              " '그리고 미국에서는 두 번째 공장으로서 텍사스 오스틴 선정을 했다라고 밝혔습니다',\n",
              " '4분 결석자 전화를 했기 때문에 smp 500 m 편입할 수 정양 요건으로 충족이 을 했고요 어 이거 관련된 게 9월 초에 아마 나올 것으로 보입니다',\n",
              " '그리고 테슬라 배터리 되니까 9월 중순 정도에 있으니까 안 본다면 그 때까지 주가 수금 모멘트 하면 유리하게 작용할 것으로 생각을 하고 있습니다',\n",
              " '현대 차 기아 차 2 분기 실적 나와서 말씀을 드리도록 하겠습니다',\n",
              " '현대 기아 2 분기 각각 실적이 예상보다 좋았습니다',\n",
              " '현대자동차 영업 이익 5900억 정도가 나왔구요',\n",
              " '출하 붙어서 맥 카시는 거의 30% 정도 감소를 해',\n",
              " '나는 이런 물량 감소에 따른 부정적인 효과를 믹스 계산이 상당히 방어를 했습니다',\n",
              " '현대 현대 SUV랑 그 다음에 다시 스 비중이 상당히 많이 올라가면서 2kg 왼쪽이 상당히 좋았습니다',\n",
              " '그래서 이 부분 덕분에 이익을 조금 방어를 했었고요',\n",
              " '자동차 부분에서 적자를 예상을 했는데 그 1.7% 정도의 마진을 기록을 했습니다',\n",
              " '컨퍼런스콜에서의 주요 내용은 올해의 시장수요 20% 감소할 것으로 보고 있고요',\n",
              " '이거는 뭐 기존에 그 전 망치랑 인 나인 하더라고 보시면 됩니다',\n",
              " '신 차 하반기에도 계속 나오면서 MS 상승을 추진하겠다 하라고 얘기를 하고 있습니다',\n",
              " '수소 차는 상용차 부분에서는 대형 트럭 위주로 성장을 건데 이쪽 시장에서 기회를 좀 찾아보겠다고',\n",
              " '하라고 얘기를 한 상태입니다',\n",
              " '현대자동차 2 분기 실적',\n",
              " '여기 예상을 상회하면서 이 거 반영을 해서 올해랑 내년도 실적 송치상 하고요',\n",
              " '저희가 그 기대했던 럭셔리 브랜드 에 그 비정상성 그리고 최근에 전기 차 수소 차 쪽에서의 점유율 상승을 감안해서 멀티플 소속 상향 하도록 하겠습니다',\n",
              " '그래서 목표주가 15만 원으로 상향 하도록 하겠습니다',\n",
              " '현대 차가 자동차업종 네 타 핌 기아자 동차 더 빠르게 말씀드리면 은 어시장 권사님 한 700억대 했는데 영업이익 1400억 데에 나와서 예상보다 좋았습니다',\n",
              " '마찬가지로 출하는 상당히 안 좋아서 안 좋아서 나 ASP가 상당히 많이 오르면서 수익성이 좀 방어 된 경향이 있습니다',\n",
              " '그 하반기에도 카니발 그리고 미국에서 텔 루 라 이드 증산이 있고요',\n",
              " '인도에서 소영 sb.sonsam 갔다가 생산을 예정입니다',\n",
              " '그래서 하반기에도 신 차 효과는 계속 이어질 것으로 생각을 합니다',\n",
              " '중장기적으로 2025년도 귀신으로 전기 차 부분에서',\n",
              " '8% 마진을 갔다가 목표 하고 있다라고 밝히고 있는 상태입니다',\n",
              " '기아자 동차도 마찬가지로 실적 송 지상 하고요',\n",
              " '멀티플 한 대 정도 올려서 목표주가 43,000으로 가겠습니다',\n",
              " '기사입니다',\n",
              " '리 츠 자료 최상용 발표 드릴 거 고요 그리고 질문 주셨던 태영 건설 관련해서 말씀 드리도록 하겠습니다',\n",
              " '세상엔 알겠습니다',\n",
              " '어 어떻게 평택시 실적 나왔는데 케 펜 텍 싱 가 포 르 상장한 캠페인 그룹의 데이터 센터를 2 층입니다',\n",
              " '싱 가 포 르 리 츠 상장이 20개 정도 기존 없는데 그 중에 저희가 appear in logistics 그리고 krtcs-1 원 이체 대해서 조금 선호하는데요 DC도 전년대비 매출 상승률 3시 정도까지 나왔고요',\n",
              " '그래서 전체적으로는 데이터 센타 사업이 상당히 그 유명한 거를 한 번도 입증을 했습니다',\n",
              " '그리고 코로나 관련해서도 영향이 없진 않았는데 그럼에도 불구하고 이제 이런 괜찮아 실적이나 왔고 그리고 기존 자산에서 토 폴로 지 업그레이드가 있었기 때문에 그런 부분 좋았다고',\n",
              " '말씀을 드리고 있고요',\n",
              " '그리고 금주의 건설업종 관련해서는 제가 위 클 리를 따로 썼는데 어',\n",
              " '그거를 함께 말씀을 드리겠습니다',\n",
              " '지금 질문지 유 튜브 게시판에 질문도 못해 용서를 질문을 하셔 가지고요',\n",
              " '일단 7월 15일 기준으로 태 영건설의 분할이 확정이 됐고요',\n",
              " '그리고 좋은 법인은 태양이고 신설법인은 이제 TY 홀딩 스가 되게 돼 있고요',\n",
              " '여기 51대 49% 분할이 어떻게 되었습니다',\n",
              " '그래서 홀딩 스 나 시겠지만 지주회사 되는 거 고요 되면 은 태영이 지금 현재 자사주가 이제 전부 지주사로 가서 제조사에서 이렇게 쪼개져서 지수 산은 지주 자 사주 하고 태영 건설 10%를 갖게 되고요',\n",
              " '그래서 분할 보고서는 투자하시는 분들이 꼭 오셔야 되는데 그날 보고서 상해서 내 신설 상장 하게 되면 은 이제 태영 건설 지분을 유지하기 위해서 20% 이상 하고 가야 되기 때문에 현물 출자를 통해 가지고 증자를 하겠다는 그런 공개 매수를 할 예정이구요',\n",
              " '관련해서 너 8월 30일 기준으로 분할',\n",
              " '9월 달에 분할 상장 하고 뭐 이렇게 할 예정입니다',\n",
              " '그리고 2분할 발표는 올해 1월 22일에 있는데 어쨌든 태영 건설의 ytd로 40% 넘는 그러냐고 한 주가 성과를 보이는 게 티 엠아이 홀 딩스 갖고 있는 티 에스케이 코퍼 레이션 수처리기업이랑 폐기물 하늘 환경 기업에 대한 그럼 같이 가 조금 높아서 인 거 같고요',\n",
              " '그리고 분할 상장 하게 된다면 그런 자회사가 제가 좀 더 보게 될 거라고 보기 때문에 분할이 의학상식 종이 상당히 올라가지 않겠는가',\n",
              " '이렇게 판단을 하고 있습니다',\n",
              " '그래서 태영 건설의 대상 계속 지속적으로 좋은 의견을 갖고 있다',\n",
              " '이렇게 말씀을 드렸고요',\n",
              " '군부대 이전 해 남 골프장 이제 나만 이런 얘기 하면서 주택공급 얘기를 하고 있는데 태영이 창원이랑 전주나 부천 등지에서 군부대 이전 사업에 대해서 가장 적극적인 기어 비로 하기 때문에 앞으로 좀 행보를 시켜 보셔도 좋을 것 같습니다',\n",
              " '감사합니다',\n",
              " '이어서 글로벌 리서치 신단 생물이라는 중국 바이 오텍 관련 기업 발송 말씀 드리도록 하겠습니다',\n",
              " '안녕하십니까',\n",
              " '글로 벌 리서치 이미지입니다',\n",
              " '백승혜 대리님 되시네요',\n",
              " '신한 생명 발표 드리겠습니다',\n",
              " '물은 2018년 10월 홍 콩 증시 화성 장안 바이 오텍으로 준으로 다이어트 사람이 하는 거 알려 드립니다',\n",
              " '두 개의 식 판 품목을 보유 했는데요 그 중에 가장 중요한 거는 pd-1 면역 관문 억제제 산채 비빔밥으로 18년 10월 12월에 제철의 허가 받은 이유 오래 비소세포 폐암을 조건은 적응증으로 신약 허가 서를 추가로 제출했습니다',\n",
              " '비소세포 폐암 같은 경우는 연간 신규 환자가 50만 명 이상이 다니엘 중에 가장 큰 적응증으로 이렇게 영리한 적응증 업체를 통해서 26년 80억원에 가까운 매출을 기록한 것으로 기대가 됩니다',\n",
              " '이런 신약 모멘텀이 왜 또 올해 6월 아바스 틴 바이오 시 밀러 화가 시판허가를 출발해서 세 개 추가 바이오 시 밀러 허가 모멘텀이 오래 줘',\n",
              " '하고 있습니다',\n",
              " '아직 적자 기업이나 빠르면 22년 영암이 흑자전환 가능이 할 것으로 보이고요',\n",
              " '12월 12개월 선생님이 세일즈 기준 27 피어 그룹 데일리 모션 부담이 적고 개발 영향이 뛰어난 만큼 바이 오텍 회장으로서 2.0 더럽다고',\n",
              " '판단합니다',\n",
              " '이상입니다',\n",
              " '국 내외기업 분석적으로 넘어가도록 하겠습니다',\n",
              " '우선 목표주가를 안 한독 크린텍부터 먼저 말씀 드리도록 하겠습니다',\n",
              " '코스닥 벤처 팀에서 발표 드리겠습니다',\n",
              " '안녕하십니까',\n",
              " '코 상처 채팅 종류입니다',\n",
              " '그 금일 저희 한독 크린텍 상향 자료 발달되서 발표 드리겠습니다',\n",
              " '한독 크린텍 예상이 근거로는 그 저희 정 수기 시장 내 정수기 내 필수 필터인 카본 블럭 필터를 생산하는 기업인데요 코로나 19 해도 변태 판매처는 통해서 국내에 정수기 계정 추가 계속 증가 하면서 저희가 우려했던 과 달리 시장이 지속적으로 성장하는 것을 파악해서 그 저희가 그 오래 no 계속 매출 성장 있을 것을 제가 파악해서 상황을 하려고 하고 있습니다',\n",
              " '그 필수 필드 카본 블럭 필터 독점 생산 해서 코 웨이 쿠쿠 홈 시스 SK 매직 등으로 납품하고 있고요',\n",
              " '그리고 그 외에도 에어필터의 제품 포트 폴리오 확장 그리고 완제품 매출 매출 비중이 증가하고 있고 그리고 올해 하반기에는 신규고객 사 추가 가능성도 있어서',\n",
              " '다양한 성장 동력을 보려고 있습니다',\n",
              " '그 2 분기 실적은 매출액 영업이익 248억원 글 영업이 21억원으로 꾸준히 성장할 수 있을 것으로 저희가 보고 있고 2020년에 김 혜 주 621호 건 영업이 90억원으로 큰 폭의 성장이 있을 것으로 저희가 판단하고 있습니다',\n",
              " '그렇게 기준으로 봤을 때 2020년 pier 11 배 정도밖에 되지 않는 사랑이 뭐야 저희가 15 배 정도로 이제 상했을 때 그 최근에 그 정수기 수돗물 유치원 관련해서 한번 한번 추가 했던 적이 있었는데 그래도 아직도 35% 그 주가 업 사이드 있어서 추천 드리고 있습니다',\n",
              " '감사합니다',\n",
              " '이어서 SK 하이닉스 관련해서 김경 빈 연구원이 발표 드리도록 하겠습니다',\n",
              " '안녕 하세요 반도체 담당하는 김 정훈 입니',\n",
              " '다 어제 9시 SK 하이닉스가 실적발표를 했는데요 그 2 분기 내용은 좋았지만 삼사 분기에 계속 그 이해 하라고 할 것 같습니다',\n",
              " '그래서 연말 까지는 대형 둘 중에서 SK 하이닉스보다는 삼성전자가 좀 더 나을 것 같다는 의미에서 제목을 연말까지 메모리보다는 비메모리로라고 적었구요',\n",
              " '어이 추정은 어제 2 분기는 일정 구조 여서 저희 예상치 랑 이 동일하게 포함했고 3 분기는 이제 D 램 가격 인하 미끄럼틀을 둘 다 저는 마이너스로 예상을 하고 있습니다',\n",
              " '때문이고요',\n",
              " '그래서 영업이익은 1.5 줘 그리고 4 분기는 1.1 쪽으로 보고 있습니다',\n",
              " '그래서 4 분기에 다음 사이트를 마무리 될 거 다라고 보고 있으니까 한 지금 정도 남아 있는 상황이 고요 그 그러면 지금 전혀 볼 것이 없네',\n",
              " '이제 한 가지 희망이 있는데 그 pc를 선물 가격의 하락 속도가 만 나 되고 있습니다',\n",
              " '이게 3월부터 급하게',\n",
              " '지금은 완만하게 빠지고 있거든요',\n",
              " '그래서 저도 요거를 잘 관찰하고 이따가 혹시 하락 속도가 멈춘다 그런 시그널 있으면 그 때는 좀 더 톤 어 플 해서 그 자료를 작성하도록 하겠습니다',\n",
              " '그 어제 내용자체는 나쁘진 않았는데 지금 향후 5개월 동안은 실적이 증가하기 어렵기 때문에 제가 좀 보수적인 톤으로 작성을 했고요',\n",
              " '그 간밤에 관련 주인 미국 엠에스 원 디지털 5% 이상 상승했고 마이크론 2일 퍼센트 정도 상승을 했거든요 세율을 말씀을 드리면 어제 SK 하이닉스 발표 내용 중에 좀 내용이 너무 좋았습니다',\n",
              " '그래서 큰 전세계 랜드 넘버 2일 웨스턴 디지털의 많이 상승을 했고 마이크론 또 이제 하이닉스 발표 내용 자체는 나쁘지는 않았기 때문에 했다라고 보고 있습니다',\n",
              " '다만 저희 국내 투자자 분들은 삼성전자 한일 비교 하실 때 저는 삼성전자가 상대적으로 났다라고 생각하고 있습니다',\n",
              " '이상입니다',\n",
              " 'LG 디스플레이 관련해서',\n",
              " '김 현수 연금 계속 발표 드리도록 하겠습니다',\n",
              " '안녕 하세요 대표한다는 김영수입니다',\n",
              " 'LG 디 스프레이 도저히 실적발표가 있었고요',\n",
              " '컨 센서스를 합의하는 영업 적자 5100억 5175 거니 나왔습니다',\n",
              " '다만 이제 적자 확 대추에는 요번 등기가 마지막일 것으로 보고 있고요',\n",
              " '하반기부터 빠르게 적자 폭이 축소될 것으로 보고 있습니다',\n",
              " '이따 2 분기에만 간단하게 의 먼저 드리면 TV 모바일 모드 안 좋았구나',\n",
              " '당연히 4월 5월 말까지 글로벌리 모든 TV 쪽 스마트 폰 접수를 안 좋았기 때문에 채널 가정에도 굉장히 낮게 유지되면서 고정비 부담이 크게 증가했고 TV 쪽은 매출이 많이 많이 45% 모바일 패널 쪽은 이제 OLED 부문은 좋았어요',\n",
              " '워낙 기저효과가 담아 이제 전체적으로 모바일 패널 쪽도 수익성을 적자가 취소됐습니다',\n",
              " '좋은 쪽은 it 패널만 좋았고요',\n",
              " '지금 재택 근무 중인가 온라인 교육 시장 확대에로 인해서 노트북 태블릿 모두 종합 순위에서 uit',\n",
              " '채널 며칠에 와 29% 증가하면서 수익성 역시 개선된 것으로 보고 있습니다',\n",
              " '아 이제 3 분기부터 아까 말씀드린 것처럼 적자 폭이 크게 축소가 되는데 3 분기에는 영업 적자 300억원 보고 있고요',\n",
              " '일단 티비 왕 모바일 모두 지금 가장 안 좋은 것은 OLED 인데 원래 제가 그 동안은 라인 깔아 놓고 모두 패널 출하가 제대로 안 되면서 고정비가 높게 형성이 되어 있었는데요 3 분기부터 올리기 라인이 가동에 돌입하면서 광주 OLED 라인 타면서 3 분기 패널 출하량은 입은 게 대비해서 150% 그리고 원리 리 모바일 쪽은 2 분기 대비해서 230% 증가할 것으로 보고 있습니다',\n",
              " '특히 원리 리 모바일 저 작년에 1조 적자가 나온 사업 본데 분기 BP 수준까지 개선될 것으로 보고 있고요',\n",
              " '그래서 내년까지 보면 은 이제 전사 흑자전환까지 가능한 수준이 되지 않을까',\n",
              " '그렇게 보고 있으면서 목표주가 15,000원의 하겠습니다',\n",
              " '이상입니다',\n",
              " '이어서 1',\n",
              " '관련해서 최 정훈 연구원 개성 알려 드리도록 하겠습니다',\n",
              " '예 안녕하세요',\n",
              " '하 남 최적입니다',\n",
              " '그 KB 금액에서 하나 금융 어제 시작할 편했구요',\n",
              " '순 위권 6876 나왔습니다',\n",
              " '제가 6000 50억 정도 갔기 때문에 상처를 이제 금방 상의한 서 프라이 즈 실적이 나왔고요',\n",
              " '내용은 다 주었습니다',\n",
              " '뭐 성장률 안정적이었고 마진은 200개 정도 하려고 했는데 다른 보다는 좀 적었던 편이 고요 단비도 이제 크게 낮아 졌고 충당금을 코로나 통닭을 많이 쌓았지만 어쨌든 전반적으로 금액이 평가액이 많이 생각하면서 실적이 상당히 잘 나왔습니다',\n",
              " '배 낭도 주당 500원 장 현수 준 배당 결의 했고요',\n",
              " '약속하고 신뢰를 시키라는 주주가치의 여기 상담 드렸던 거 같습니다',\n",
              " '게다가 그 작은 비율도 중간 배당을 세안 후에도 12.4% 13일 정도가 개선되서 전반전 모든 게 다 주었습니다',\n",
              " '그래서 뭐 비중 확대를 공부 하지 않은',\n",
              " '수가 없는 축하 소진하고 보고 있고요',\n",
              " '당하지 그냥 전반적으로 지금 주가가 생각보다는 다른 업종 대비 시크릿가든 키 좀 부진한 편입니다',\n",
              " '앞에서 이제 채권 조회서 말씀하셨지만 경기는 우려가 좀 계속되고 있는 상황이고 금리도 지금 계속 떨어지고 있어서 연중 최저 점 수준의 지금 잘하고 있습니다',\n",
              " '그럼에도 불구하고 실적이 워낙 좋고 하반기도 나쁘지 않을 거기 때문에 아주 까는 가능하시다고',\n",
              " '보고 있고요',\n",
              " '관건은 외국인 매수는 데 시작하고 배당이 상당히 좋았기 때문에 외국 매수도 좀 들어오지 않을까',\n",
              " '일단 하고 있습니다',\n",
              " '전반적으로 외국인 매수 여 보를 좀 지켜보자 될 것 같습니다',\n",
              " '이상입니다',\n",
              " '입장으로서 저희가 발표 준비된 자료는 다 왔습니다',\n",
              " '하나 안내 말씀 드리면 7월 28일 날 그 9 번째로 대과에 만남이 더 준비가 되어 있습니다',\n",
              " '이번에 나오셔 보는 유 안타 증권에 계시는 유 동원 부장입니다',\n",
              " '참석 관심 부탁 드립니다',\n",
              " '이상으로 7월 24 일 모닝 미팅 아침만큼 마치도록 하겠습니다',\n",
              " '수고하셨습니다']"
            ]
          },
          "metadata": {
            "tags": []
          },
          "execution_count": 6
        }
      ]
    },
    {
      "cell_type": "code",
      "metadata": {
        "id": "NPsab3YmLIAh",
        "colab_type": "code",
        "colab": {
          "base_uri": "https://localhost:8080/",
          "height": 557
        },
        "outputId": "73b4d39e-cc00-4f1e-aa5a-d8663d621240"
      },
      "source": [
        "import sys\n",
        "sys.path.append('/content/textrank/textrank')\n",
        "\n",
        "from summarizer import KeywordSummarizer\n",
        "keyword_extractor = KeywordSummarizer(tokenize = komoran_tokenize, window =1, verbose = False)\n",
        "\n",
        "#빈번 키워드 출력\n",
        "keywords = keyword_extractor.summarize(scripts, topk = 30) \n",
        "keywords"
      ],
      "execution_count": 7,
      "outputs": [
        {
          "output_type": "execute_result",
          "data": {
            "text/plain": [
              "[('부분/NNG', 4.9543091643469195),\n",
              " ('것/NNB', 4.759059958151167),\n",
              " ('정도/NNG', 3.924476736360497),\n",
              " ('실적/NNG', 3.8159113694198936),\n",
              " ('거/NNB', 2.5686692124109745),\n",
              " ('수/NNB', 2.379701431919202),\n",
              " ('예상/NNG', 2.3598129290247676),\n",
              " ('발표/NNG', 2.290726226352369),\n",
              " ('말씀/NNG', 2.1737424684514077),\n",
              " ('때문/NNB', 2.132106403887719),\n",
              " ('분기/NNP', 1.8057689479557197),\n",
              " ('달러/NNB', 1.5856123475640551),\n",
              " ('이/NNP', 1.5465949597931945),\n",
              " ('하반기/NNG', 1.5146722023527892),\n",
              " ('영업/NNP', 1.4559534347807728),\n",
              " ('택/NNG', 1.4559534347807723),\n",
              " ('세포/NNP', 1.4559534347807723),\n",
              " ('갈등/NNP', 1.4559534347807723),\n",
              " ('성장/NNG', 1.437507683789459),\n",
              " ('원/NNB', 1.327771998026614),\n",
              " ('차/NNB', 1.2982456140329686),\n",
              " ('기아/NNP', 1.2982456140329686),\n",
              " ('필터/NNP', 1.2982456140329686),\n",
              " ('블럭/NNG', 1.2982456140329686),\n",
              " ('내용/NNG', 1.2799271746561272),\n",
              " ('분할/NNP', 1.2768680783074187),\n",
              " ('주가/NNP', 1.2377326571159508),\n",
              " ('패널/NNP', 1.2376212801389697),\n",
              " ('동기/NNG', 1.2279767173903862),\n",
              " ('동월/NNG', 1.2279767173903862)]"
            ]
          },
          "metadata": {
            "tags": []
          },
          "execution_count": 7
        }
      ]
    },
    {
      "cell_type": "code",
      "metadata": {
        "id": "Tbig8DArLH97",
        "colab_type": "code",
        "colab": {
          "base_uri": "https://localhost:8080/",
          "height": 685
        },
        "outputId": "755ef2e0-2dc3-42e2-fff9-8c3bebbe65e9"
      },
      "source": [
        "from summarizer import KeysentenceSummarizer\n",
        "# 핵심문장 출력\n",
        "summarizer = KeysentenceSummarizer(tokenize = komoran_tokenize, min_sim = 0.5, similarity = 'textrank')\n",
        "keysents = summarizer.summarize(ex_sent, topk=14) #topk파라미터 변경을 통해문장 개수 조절\n",
        "keysents #(sentence index, rank, sentence)"
      ],
      "execution_count": 9,
      "outputs": [
        {
          "output_type": "execute_result",
          "data": {
            "text/plain": [
              "[(193,\n",
              "  1.8434541693030138,\n",
              "  '다 어제 9시 SK 하이닉스가 실적발표를 했는데요 그 2 분기 내용은 좋았지만 삼사 분기에 계속 그 이해 하라고 할 것 같습니다'),\n",
              " (60,\n",
              "  1.781062113602089,\n",
              "  '이런 부분들이 결국은 아이 유럽 유럽 국가들의 위기상황에서의 대흥 역에서 높여 주는 그동안 약점으로 압구정 저희가 봤던 해결되는 부분으로 보증 될 거 같고 이 가운데서 일단은 외환시장 분위기는 애 나는 정책은행 보세구역 원 달러 환율 만 보셔도 변동성이 상당히 달러 인덱스 하라고 하는 거에 비해서 움직이지 않고 있다는 거 줄 수 있을 것 같습니다'),\n",
              " (204,\n",
              "  1.7356111863260422,\n",
              "  '그 간밤에 관련 주인 미국 엠에스 원 디지털 5% 이상 상승했고 마이크론 2일 퍼센트 정도 상승을 했거든요 세율을 말씀을 드리면 어제 SK 하이닉스 발표 내용 중에 좀 내용이 너무 좋았습니다'),\n",
              " (32,\n",
              "  1.69051826005229,\n",
              "  '앞으로 한국은행이 언제쯤 다시 이상 할 수 있느냐에 대해서는 일단 GDP가 장기적인 성장 경로에 근접하지 정도까지 회복될 필요가 있는데요 2008년 금융위기 당시를 되돌아보면 상당히 오랜 시간이 걸렸습니다'),\n",
              " (211, 1.67746759050475, 'LG 디 스프레이 도저히 실적발표가 있었고요'),\n",
              " (79,\n",
              "  1.6422471991019552,\n",
              "  '실적 예상보다 잘 나올 걸로 예상을 하고 있기 때문에 전체적으로 좀 긍정적인 관점 유지한 다라고 보시면 될 거 같고요'),\n",
              " (114, 1.634164586976333, '현대 기아 2 분기 각각 실적이 예상보다 좋았습니다'),\n",
              " (140,\n",
              "  1.5932523961853424,\n",
              "  '리 츠 자료 최상용 발표 드릴 거 고요 그리고 질문 주셨던 태영 건설 관련해서 말씀 드리도록 하겠습니다'),\n",
              " (223,\n",
              "  1.5280926039419325,\n",
              "  '특히 원리 리 모바일 저 작년에 1조 적자가 나온 사업 본데 분기 BP 수준까지 개선될 것으로 보고 있고요'),\n",
              " (184,\n",
              "  1.469498878088924,\n",
              "  '한독 크린텍 예상이 근거로는 그 저희 정 수기 시장 내 정수기 내 필수 필터인 카본 블럭 필터를 생산하는 기업인데요 코로나 19 해도 변태 판매처는 통해서 국내에 정수기 계정 추가 계속 증가 하면서 저희가 우려했던 과 달리 시장이 지속적으로 성장하는 것을 파악해서 그 저희가 그 오래 no 계속 매출 성장 있을 것을 제가 파악해서 상황을 하려고 하고 있습니다'),\n",
              " (62,\n",
              "  1.4642831879755271,\n",
              "  '지금 일단은 그 1차 세제개혁 한들 뭐 찾으시는 그동안 정치 확실성들을 커지면서 불가 하다라고 인제 인식이 좀 됐던 부분들이 그냥 조심스럽게 계속되고 있는 분들이 일단은 재정 측면에서 그리고 또 경제 측면에서 긍정적인 역할을 할 수 있을걸'),\n",
              " (188,\n",
              "  1.4246031912953052,\n",
              "  '그 2 분기 실적은 매출액 영업이익 248억원 글 영업이 21억원으로 꾸준히 성장할 수 있을 것으로 저희가 보고 있고 2020년에 김 혜 주 621호 건 영업이 90억원으로 큰 폭의 성장이 있을 것으로 저희가 판단하고 있습니다'),\n",
              " (77,\n",
              "  1.4226583936425783,\n",
              "  '이번 실적은 전체적으로 제클라우드 부분에서 이제 실적이 잘 나왔고 그 다음에 락 다운 관련해서 게임 관련된 부분하고 관련 서비스 매출하고 다음에 이제 그 하드웨어 매출 이런 부분이 고르게 성장을 하면서 전체적으로 실적이 잘 나왔고요'),\n",
              " (11, 1.4199109911183498, '중국 증시는 경기회복 기대감 커진 가운데 미 중 갈등 우려가 고조되면 혼 조 마감했습니다')]"
            ]
          },
          "metadata": {
            "tags": []
          },
          "execution_count": 9
        }
      ]
    },
    {
      "cell_type": "code",
      "metadata": {
        "id": "c7Y0zVscLH73",
        "colab_type": "code",
        "colab": {
          "base_uri": "https://localhost:8080/",
          "height": 35
        },
        "outputId": "c3a5e727-c5a8-42f9-9fe1-169a12fb47eb"
      },
      "source": [
        "key_sen_arr = []\n",
        "time_arr = []\n",
        "idx_arr = []\n",
        "\n",
        "for i in range(len(keysents)):\n",
        "  idx_arr.append(keysents[i][0]) # 인덱스만 따로 저장\n",
        "\n",
        "idx_arr"
      ],
      "execution_count": 10,
      "outputs": [
        {
          "output_type": "execute_result",
          "data": {
            "text/plain": [
              "[193, 60, 204, 32, 211, 79, 114, 140, 223, 184, 62, 188, 77, 11]"
            ]
          },
          "metadata": {
            "tags": []
          },
          "execution_count": 10
        }
      ]
    },
    {
      "cell_type": "code",
      "metadata": {
        "id": "fsGJbF0LLYWI",
        "colab_type": "code",
        "colab": {}
      },
      "source": [
        "scripts_str = \"\"\n",
        "for w in new_scr_time:\n",
        "  scripts_str +=w[0]\n",
        "  scripts_str +=\" \"\n",
        "scripts_word = []\n",
        "scripts_word = scripts_str.split(' ')"
      ],
      "execution_count": 11,
      "outputs": []
    },
    {
      "cell_type": "code",
      "metadata": {
        "id": "yioCff_dLYUA",
        "colab_type": "code",
        "colab": {
          "base_uri": "https://localhost:8080/",
          "height": 53
        },
        "outputId": "52ef1f73-21e0-4e95-85fb-f4896abb0153"
      },
      "source": [
        "timestamps = \"\"\n",
        "for w in new_scr_time:\n",
        "  timestamps+=w[1] #초만 저장\n",
        "  timestamps+=\" \"\n",
        "\n",
        "timestamp_data = []\n",
        "timestamp_data = timestamps.split(' ')\n",
        "\n",
        "#두 개가 다르면 무슨 문제가 있는 것\n",
        "print(len(scripts_word))\n",
        "print(len(timestamp_data))"
      ],
      "execution_count": 12,
      "outputs": [
        {
          "output_type": "stream",
          "text": [
            "3310\n",
            "3310\n"
          ],
          "name": "stdout"
        }
      ]
    },
    {
      "cell_type": "code",
      "metadata": {
        "id": "8SeoxB9dQTHm",
        "colab_type": "code",
        "colab": {}
      },
      "source": [
        "key_sen_arr = []\n",
        "time_arr = []\n",
        "for i in idx_arr:\n",
        "  line = ex_sent[i].split(' ')\n",
        "  key_sen_arr.append(line)\n",
        "key_sen_arr"
      ],
      "execution_count": null,
      "outputs": []
    },
    {
      "cell_type": "markdown",
      "metadata": {
        "id": "5cDRSa61W8m-",
        "colab_type": "text"
      },
      "source": [
        ""
      ]
    },
    {
      "cell_type": "code",
      "metadata": {
        "id": "ROPz75VSVni5",
        "colab_type": "code",
        "colab": {}
      },
      "source": [
        "from sklearn.feature_extraction.text import TfidfVectorizer\n",
        "from sklearn.metrics.pairwise import cosine_similarity\n",
        "def compare_arr(A, B):\n",
        "  #A와 B의 문장 유사도 출력\n",
        "  sent = []\n",
        "  a = \"\"\n",
        "  b = \"\"\n",
        "  for w in A:\n",
        "    a+=w\n",
        "    a+=\" \"\n",
        "  for w in B:\n",
        "    b+=w\n",
        "    b+=\" \"\n",
        "  sent.append(a)\n",
        "  sent.append(b)\n",
        "\n",
        "  tfidf_vectorizer = TfidfVectorizer()\n",
        "  tfidf_matrix = tfidf_vectorizer.fit_transform(sent)\n",
        "  idf = tfidf_vectorizer.idf_\n",
        "  #print(dict(zip(tfidf_vectorizer.get_feature_names(), idf)))\n",
        "  return cosine_similarity(tfidf_matrix[0:1], tfidf_matrix[1:2])\n"
      ],
      "execution_count": 14,
      "outputs": []
    },
    {
      "cell_type": "code",
      "metadata": {
        "id": "ZEC9vavCQS75",
        "colab_type": "code",
        "colab": {
          "base_uri": "https://localhost:8080/",
          "height": 91
        },
        "outputId": "978f9b5c-f0c9-4f3e-8f92-0f6706e7fe69"
      },
      "source": [
        "time_arr = []\n",
        "matching = []\n",
        "max_idx = []\n",
        "\n",
        "for sent in key_sen_arr:\n",
        "  length = len(sent)\n",
        "  max = 0\n",
        "  sim_idx = 0\n",
        "  sim_length = 0\n",
        "  for idx in range(len(scripts_word)):\n",
        "    w = scripts_word[idx]\n",
        "    if w == sent[0]:\n",
        "      if ( compare_arr(sent, scripts_word[idx:idx+length])[0] > max):\n",
        "        #코사인 유사도가 제일 높은 인덱스를 저장\n",
        "        sim_idx = idx\n",
        "        sim_length = length\n",
        "        max = compare_arr(sent, scripts_word[idx:idx+length])[0]\n",
        "        \n",
        "\n",
        "  op = scripts_word[sim_idx:sim_idx+sim_length]\n",
        "  if len(op)!=0:\n",
        "    matching.append(scripts_word[sim_idx:sim_idx+sim_length])\n",
        "    max_idx.append(sim_idx)\n",
        "    time_arr.append(int(timestamp_data[sim_idx]))\n",
        "        #print(\"선택: \", sent, scripts_word[idx:idx+length])\n",
        "        #time_arr.append(timestamp_data[idx])\n",
        "        #break\n",
        "\n",
        "print(matching)\n",
        "print(time_arr)\n",
        "print(max_idx)\n"
      ],
      "execution_count": 15,
      "outputs": [
        {
          "output_type": "stream",
          "text": [
            "[['이런', '부분들이', '결국은', '아이', '유럽', '유럽', '국가들의', '위기상황에서의', '대흥역에서', '높여주는', '그동안', '약점으로', '압구정', '저희가', '봤던', '해결되는', '부분으로', '보증', '될', '거', '같고', '이', '가운데서', '일단은', '외환시장', '분위기는', '애나는', '정책은행', '보세구역', '원', '달러', '환율', '만', '보셔도', '변동성이', '상당히', '달러인덱스', '하라고', '하는', '거에', '비해서', '움직이지', '않고', '있다는', '거', '줄', '수', '있을', '것', '같습니다', '국면', '별로', '차별화', '현상들이'], ['그', '간밤에', '관련주인', '미국', '엠에스원디지털', '5%', '이상', '상승했고', '마이크론', '2일', '퍼센트', '정도', '상승을', '했거든요', '세율을', '말씀을', '드리면', '어제', 'sk', '하이닉스', '발표', '내용', '중에', '좀', '내용이', '너무', '좋았습니다', '그래서', '큰', '전세계'], ['앞으로', '한국은행이', '언제쯤', '다시', '이상', '할', '수', '있느냐', '에', '대해서는', '일단', 'gdp', '가', '장기적인', '성장', '경로에', '근접하지', '정도까지', '회복될', '필요가', '있는데요', '2008년', '금융위기', '당시', '를', '되돌아보면', '상당히'], ['실적', '예상보다', '잘', '나올', '걸로', '예상을', '하고', '있기', '때문에', '전체적으로', '좀', '긍정적인', '관점', '유지한다', '라고', '보시면', '될', '거', '같고요'], ['현대', '현대', 'suv', '랑', '그', '다음에', '다시', '스'], ['특히', '원리리', '모바일', '저', '작년에', '1조', '적자가', '나온', '사업', '본데', '분기', 'bp', '수준까지', '개선될', '것으로', '보고', '있고요', '그래서'], ['지금', '일단은', '그', '1차', '세제개혁', '한들', '뭐', '찾으시는', '그동안', '정치', '확실성들을', '커지면서', '불가하다', '라고', '인제', '인식이', '좀', '됐던', '부분들이', '그냥', '조심스럽게', '계속되고', '있는', '분들이', '일단은', '재정', '측면에서', '그리고', '또', '경제', '측면에서', '긍정적인', '역할을', '할', '수', '있을걸'], ['그', '2분기', '실적', '은', '매출액', '영업이익', '248억원', '글', '영업이', '21억원', '으로', '꾸준히', '성장할', '수', '있을', '것으로', '저희가', '보고', '있고', '2020년에', '김혜주', '621호', '건', '영업이', '90억원으로', '큰', '폭의', '성장이', '있을', '것으로', '저희가', '판단하고', '있습니다', '그렇게'], ['이번', '실적은', '전체적으로', '제클라우드', '부분에서', '이제', '실적이', '잘', '나왔고', '그', '다음에', '락다운', '관련해서', '게임', '관련된', '부분하고', '관련서비스', '매출하고', '다음에', '이제', '그', '하드웨어', '매출', '이런', '부분이', '고르게', '성장을', '하면서', '전체적으로', '실적이', '잘', '나왔고요', '전반적으로', '이제'], ['중국', '정부의', '휴스턴', '주제에', '중국', '총영사관을', '72시간내에', '철수', '할', '것을', '요구했습니다', '또한', '트럼프', '대통령은']]\n",
            "[478, 1510, 235, 642, 901, 1654, 518, 1375, 612, 95]\n",
            "[858, 2778, 334, 1211, 1710, 3042, 957, 2522, 1150, 80]\n"
          ],
          "name": "stdout"
        }
      ]
    },
    {
      "cell_type": "code",
      "metadata": {
        "id": "IJcQ4aenbJZi",
        "colab_type": "code",
        "colab": {
          "base_uri": "https://localhost:8080/",
          "height": 197
        },
        "outputId": "335e1a04-fcea-4588-d926-a66eb6da168b"
      },
      "source": [
        "for i in max_idx:\n",
        "  print(scripts_word[i])"
      ],
      "execution_count": 16,
      "outputs": [
        {
          "output_type": "stream",
          "text": [
            "이런\n",
            "그\n",
            "앞으로\n",
            "실적\n",
            "현대\n",
            "특히\n",
            "지금\n",
            "그\n",
            "이번\n",
            "중국\n"
          ],
          "name": "stdout"
        }
      ]
    },
    {
      "cell_type": "code",
      "metadata": {
        "id": "OgdSmwXroLMZ",
        "colab_type": "code",
        "colab": {}
      },
      "source": [
        "from moviepy.video.io.ffmpeg_tools import ffmpeg_extract_subclip\n",
        "import numpy as np\n",
        "time_arr = np.array(time_arr)\n",
        "time_arr = np.sort(time_arr)\n"
      ],
      "execution_count": 17,
      "outputs": []
    },
    {
      "cell_type": "code",
      "metadata": {
        "id": "cT25oBezoLHq",
        "colab_type": "code",
        "colab": {
          "base_uri": "https://localhost:8080/",
          "height": 107
        },
        "outputId": "0ad91abe-96b8-499a-b140-a30db3efa063"
      },
      "source": [
        "#영상으로 저장\n",
        "ffmpeg_extract_subclip(\"/content/drive/My Drive/hanatv_youtube.mp4\", time_arr[2], time_arr[3], targetname=\"/content/drive/My Drive/video3.mp4\")"
      ],
      "execution_count": null,
      "outputs": [
        {
          "output_type": "stream",
          "text": [
            "\n",
            "[MoviePy] Running:\n",
            ">>> /usr/bin/ffmpeg -y -i /content/drive/My Drive/hanatv_youtube.mp4 -ss 478.00 -t 40.00 -vcodec copy -acodec copy /content/drive/My Drive/video3.mp4\n",
            "... command successful.\n"
          ],
          "name": "stdout"
        }
      ]
    },
    {
      "cell_type": "code",
      "metadata": {
        "id": "Q8BaTbaBoLFj",
        "colab_type": "code",
        "colab": {}
      },
      "source": [
        ""
      ],
      "execution_count": null,
      "outputs": []
    },
    {
      "cell_type": "code",
      "metadata": {
        "id": "bBoCIXbvoLCd",
        "colab_type": "code",
        "colab": {}
      },
      "source": [
        ""
      ],
      "execution_count": null,
      "outputs": []
    },
    {
      "cell_type": "code",
      "metadata": {
        "id": "q-cN9LEHoK94",
        "colab_type": "code",
        "colab": {}
      },
      "source": [
        ""
      ],
      "execution_count": null,
      "outputs": []
    }
  ]
}