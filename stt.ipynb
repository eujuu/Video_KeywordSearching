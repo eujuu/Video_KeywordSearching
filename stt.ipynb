{
  "nbformat": 4,
  "nbformat_minor": 0,
  "metadata": {
    "colab": {
      "name": "stt.ipynb",
      "provenance": [],
      "collapsed_sections": []
    },
    "kernelspec": {
      "name": "python3",
      "display_name": "Python 3"
    },
    "accelerator": "GPU"
  },
  "cells": [
    {
      "cell_type": "code",
      "metadata": {
        "id": "ZA5Dg57c5LuJ",
        "colab_type": "code",
        "colab": {
          "base_uri": "https://localhost:8080/",
          "height": 356
        },
        "outputId": "28608803-47dc-4696-f189-178c5a217ff8"
      },
      "source": [
        "import os\n",
        "!pip install google-cloud-speech\n",
        "os.environ[\"GOOGLE_APPLICATION_CREDENTIALS\"] = '/content/drive/My Drive/My First Project-8084512d8249.json' #키값 설정"
      ],
      "execution_count": null,
      "outputs": [
        {
          "output_type": "stream",
          "text": [
            "Requirement already satisfied: google-cloud-speech in /usr/local/lib/python3.6/dist-packages (1.3.2)\n",
            "Requirement already satisfied: google-api-core[grpc]<2.0.0dev,>=1.14.0 in /usr/local/lib/python3.6/dist-packages (from google-cloud-speech) (1.16.0)\n",
            "Requirement already satisfied: googleapis-common-protos<2.0dev,>=1.6.0 in /usr/local/lib/python3.6/dist-packages (from google-api-core[grpc]<2.0.0dev,>=1.14.0->google-cloud-speech) (1.52.0)\n",
            "Requirement already satisfied: pytz in /usr/local/lib/python3.6/dist-packages (from google-api-core[grpc]<2.0.0dev,>=1.14.0->google-cloud-speech) (2018.9)\n",
            "Requirement already satisfied: google-auth<2.0dev,>=0.4.0 in /usr/local/lib/python3.6/dist-packages (from google-api-core[grpc]<2.0.0dev,>=1.14.0->google-cloud-speech) (1.17.2)\n",
            "Requirement already satisfied: setuptools>=34.0.0 in /usr/local/lib/python3.6/dist-packages (from google-api-core[grpc]<2.0.0dev,>=1.14.0->google-cloud-speech) (49.6.0)\n",
            "Requirement already satisfied: requests<3.0.0dev,>=2.18.0 in /usr/local/lib/python3.6/dist-packages (from google-api-core[grpc]<2.0.0dev,>=1.14.0->google-cloud-speech) (2.23.0)\n",
            "Requirement already satisfied: six>=1.10.0 in /usr/local/lib/python3.6/dist-packages (from google-api-core[grpc]<2.0.0dev,>=1.14.0->google-cloud-speech) (1.15.0)\n",
            "Requirement already satisfied: protobuf>=3.4.0 in /usr/local/lib/python3.6/dist-packages (from google-api-core[grpc]<2.0.0dev,>=1.14.0->google-cloud-speech) (3.12.4)\n",
            "Requirement already satisfied: grpcio<2.0dev,>=1.8.2; extra == \"grpc\" in /usr/local/lib/python3.6/dist-packages (from google-api-core[grpc]<2.0.0dev,>=1.14.0->google-cloud-speech) (1.31.0)\n",
            "Requirement already satisfied: cachetools<5.0,>=2.0.0 in /usr/local/lib/python3.6/dist-packages (from google-auth<2.0dev,>=0.4.0->google-api-core[grpc]<2.0.0dev,>=1.14.0->google-cloud-speech) (4.1.1)\n",
            "Requirement already satisfied: rsa<5,>=3.1.4; python_version >= \"3\" in /usr/local/lib/python3.6/dist-packages (from google-auth<2.0dev,>=0.4.0->google-api-core[grpc]<2.0.0dev,>=1.14.0->google-cloud-speech) (4.6)\n",
            "Requirement already satisfied: pyasn1-modules>=0.2.1 in /usr/local/lib/python3.6/dist-packages (from google-auth<2.0dev,>=0.4.0->google-api-core[grpc]<2.0.0dev,>=1.14.0->google-cloud-speech) (0.2.8)\n",
            "Requirement already satisfied: chardet<4,>=3.0.2 in /usr/local/lib/python3.6/dist-packages (from requests<3.0.0dev,>=2.18.0->google-api-core[grpc]<2.0.0dev,>=1.14.0->google-cloud-speech) (3.0.4)\n",
            "Requirement already satisfied: urllib3!=1.25.0,!=1.25.1,<1.26,>=1.21.1 in /usr/local/lib/python3.6/dist-packages (from requests<3.0.0dev,>=2.18.0->google-api-core[grpc]<2.0.0dev,>=1.14.0->google-cloud-speech) (1.24.3)\n",
            "Requirement already satisfied: idna<3,>=2.5 in /usr/local/lib/python3.6/dist-packages (from requests<3.0.0dev,>=2.18.0->google-api-core[grpc]<2.0.0dev,>=1.14.0->google-cloud-speech) (2.10)\n",
            "Requirement already satisfied: certifi>=2017.4.17 in /usr/local/lib/python3.6/dist-packages (from requests<3.0.0dev,>=2.18.0->google-api-core[grpc]<2.0.0dev,>=1.14.0->google-cloud-speech) (2020.6.20)\n",
            "Requirement already satisfied: pyasn1>=0.1.3 in /usr/local/lib/python3.6/dist-packages (from rsa<5,>=3.1.4; python_version >= \"3\"->google-auth<2.0dev,>=0.4.0->google-api-core[grpc]<2.0.0dev,>=1.14.0->google-cloud-speech) (0.4.8)\n"
          ],
          "name": "stdout"
        }
      ]
    },
    {
      "cell_type": "code",
      "metadata": {
        "id": "TtH4qQgXz3L4",
        "colab_type": "code",
        "colab": {
          "base_uri": "https://localhost:8080/",
          "height": 34
        },
        "outputId": "f42f162b-8c2f-45b5-8799-11b46413a3ca"
      },
      "source": [
        "\n",
        "#storage에서 오디오 파일 불러오는 방식\n",
        "#stroage에 버킷 있는지 확인\n",
        "def implicit():\n",
        "    from google.cloud import storage\n",
        "\n",
        "    # If you don't specify credentials when constructing the client, the\n",
        "    # client library will look for credentials in the environment.\n",
        "    storage_client = storage.Client()\n",
        "\n",
        "    # Make an authenticated API request\n",
        "    buckets = list(storage_client.list_buckets())\n",
        "    print(buckets)\n",
        "implicit()"
      ],
      "execution_count": null,
      "outputs": [
        {
          "output_type": "stream",
          "text": [
            "[<Bucket: prime_brc>, <Bucket: stt_hana>]\n"
          ],
          "name": "stdout"
        }
      ]
    },
    {
      "cell_type": "code",
      "metadata": {
        "id": "12fS2tiqlfp6",
        "colab_type": "code",
        "colab": {}
      },
      "source": [
        "\n",
        "\n",
        "from google.cloud import speech_v1\n",
        "from google.cloud.speech_v1 import enums\n",
        "\n",
        "def sample_long_running_recognize(storage_uri):\n",
        "    \"\"\"\n",
        "    Transcribe long audio file from Cloud Storage using asynchronous speech\n",
        "    recognition\n",
        "\n",
        "    Args:\n",
        "      storage_uri URI for audio file in Cloud Storage, e.g. gs://[BUCKET]/[FILE]\n",
        "    \"\"\"\n",
        "\n",
        "    client = speech_v1.SpeechClient()\n",
        "\n",
        "    # storage_uri = 'gs://cloud-samples-data/speech/brooklyn_bridge.raw'\n",
        "\n",
        "    # Sample rate in Hertz of the audio data sent\n",
        "    sample_rate_hertz = 16000\n",
        "\n",
        "    # The language of the supplied audio\n",
        "    language_code = \"ko-KR\"\n",
        "\n",
        "    # Encoding of audio data sent. This sample sets this explicitly.\n",
        "    # This field is optional for FLAC and WAV audio formats.\n",
        "    encoding = enums.RecognitionConfig.AudioEncoding.LINEAR16\n",
        "    config = {\n",
        "        \"sample_rate_hertz\": sample_rate_hertz,\n",
        "        \"language_code\": language_code,\n",
        "        \"encoding\": encoding,\n",
        "    }\n",
        "    audio = {\"uri\": storage_uri}\n",
        "\n",
        "    operation = client.long_running_recognize(config, audio)\n",
        "\n",
        "    print(u\"Waiting for operation to complete...\")\n",
        "    response = operation.result()\n",
        "\n",
        "    for result in response.results:\n",
        "        # First alternative is the most probable result\n",
        "        alternative = result.alternatives[0]\n",
        "        print(u\"Transcript: {}\".format(alternative.transcript))\n",
        "    return response\n",
        "\n",
        "response = sample_long_running_recognize(\"gs://prime_brc/hana_audio.wav\") #버킷명 수정\n"
      ],
      "execution_count": null,
      "outputs": []
    },
    {
      "cell_type": "code",
      "metadata": {
        "id": "hQtg6pZV8oh5",
        "colab_type": "code",
        "colab": {
          "base_uri": "https://localhost:8080/",
          "height": 34
        },
        "outputId": "cd802429-b723-485b-8046-5d7ae9c72256"
      },
      "source": [
        "with open('/content/drive/My Drive/hana_scripts.txt', \"w\") as script: #파일명 설정, 저장\n",
        "  for result in response.results:\n",
        "    script.write(u'{}'.format(result.alternatives[0].transcript)+'\\n')\n",
        "print('completed')  "
      ],
      "execution_count": null,
      "outputs": [
        {
          "output_type": "stream",
          "text": [
            "completed\n"
          ],
          "name": "stdout"
        }
      ]
    },
    {
      "cell_type": "code",
      "metadata": {
        "id": "NDhVRrDjHkdf",
        "colab_type": "code",
        "colab": {
          "base_uri": "https://localhost:8080/",
          "height": 105
        },
        "outputId": "6ade8599-1a6f-443c-8e94-9176a34deb2c"
      },
      "source": [
        "\n",
        "from google.cloud import speech_v1\n",
        "from google.cloud.speech_v1 import enums\n",
        "\n",
        "def sample_long_running_recognize_timestamps(storage_uri):\n",
        "    \"\"\"\n",
        "    Print start and end time of each word spoken in audio file from Cloud Storage\n",
        "\n",
        "    Args:\n",
        "      storage_uri URI for audio file in Cloud Storage, e.g. gs://[BUCKET]/[FILE]\n",
        "    \"\"\"\n",
        "\n",
        "    client = speech_v1.SpeechClient()\n",
        "\n",
        "    # storage_uri = 'gs://cloud-samples-data/speech/brooklyn_bridge.flac'\n",
        "\n",
        "    # When enabled, the first result returned by the API will include a list\n",
        "    # of words and the start and end time offsets (timestamps) for those words.\n",
        "    enable_word_time_offsets = True\n",
        "    sample_rate_hertz = 16000\n",
        "    encoding = enums.RecognitionConfig.AudioEncoding.LINEAR16\n",
        "    # The language of the supplied audio\n",
        "    language_code = \"ko-KR\"\n",
        "    config = {\n",
        "        \"enable_word_time_offsets\": enable_word_time_offsets, #timestamp 저장하는 설정\n",
        "        \"sample_rate_hertz\": sample_rate_hertz,\n",
        "        \"language_code\": language_code,\n",
        "        \"encoding\": encoding,\n",
        "    }\n",
        "    audio = {\"uri\": storage_uri}\n",
        "\n",
        "    operation = client.long_running_recognize(config, audio)\n",
        "\n",
        "    print(u\"Waiting for operation to complete...\")\n",
        "    response = operation.result()\n",
        "\n",
        "    # The first result includes start and end time word offsets\n",
        "    result = response.results[0]\n",
        "    # First alternative is the most probable result\n",
        "    alternative = result.alternatives[0]\n",
        "    print(u\"Transcript: {}\".format(alternative.transcript))\n",
        "    # Print the start and end time of each word\n",
        "    for word in alternative.words:\n",
        "        #타임스탬프 형식 설정\n",
        "        print(u\"Word: {}\".format(word.word))\n",
        "        print(\n",
        "            u\"Start time: {} seconds {} nanos\".format(\n",
        "                word.start_time.seconds, word.start_time.nanos\n",
        "            )\n",
        "        )\n",
        "        print(\n",
        "            u\"End time: {} seconds {} nanos\".format(\n",
        "                word.end_time.seconds, word.end_time.nanos\n",
        "            )\n",
        "        )\n",
        "        \n",
        "    return response \n",
        "response_timestamps = sample_long_running_recognize_timestamps(\"gs://prime_brc/hana_audio.wav\") #파일 불러오기"
      ],
      "execution_count": null,
      "outputs": [
        {
          "output_type": "stream",
          "text": [
            "Waiting for operation to complete...\n",
            "Transcript: 5시\n",
            "Word: 5시\n",
            "Start time: 50 seconds 700000000 nanos\n",
            "End time: 50 seconds 700000000 nanos\n"
          ],
          "name": "stdout"
        }
      ]
    },
    {
      "cell_type": "code",
      "metadata": {
        "id": "fucTp84NHyhY",
        "colab_type": "code",
        "colab": {
          "base_uri": "https://localhost:8080/",
          "height": 34
        },
        "outputId": "5f38a805-1470-4558-b09f-561537225e3d"
      },
      "source": [
        "\n",
        "with open('/content/drive/My Drive/hanascripts_timestamps_ver2.txt', \"w\") as script: # 파일명 설정\n",
        "  for result_ts in response_timestamps.results:\n",
        "    for word_ts in result_ts.alternatives[0].words:\n",
        "        script.write(u'{}, {}, {}'.format(word_ts.word, word_ts.start_time.seconds, word_ts.start_time.nanos )+'\\n')\n",
        "print('completed')"
      ],
      "execution_count": null,
      "outputs": [
        {
          "output_type": "stream",
          "text": [
            "completed\n"
          ],
          "name": "stdout"
        }
      ]
    }
  ]
}