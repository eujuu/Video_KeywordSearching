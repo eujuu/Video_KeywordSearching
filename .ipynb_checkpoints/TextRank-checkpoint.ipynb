{
 "cells": [
  {
   "cell_type": "code",
   "execution_count": null,
   "metadata": {
    "colab": {
     "base_uri": "https://localhost:8080/",
     "height": 141
    },
    "colab_type": "code",
    "id": "MnPE2kVm469I",
    "outputId": "e91081f5-c980-4670-e858-ad9cbecec6f9"
   },
   "outputs": [
    {
     "name": "stdout",
     "output_type": "stream",
     "text": [
      "Cloning into 'textrank'...\n",
      "remote: Enumerating objects: 4, done.\u001b[K\n",
      "remote: Counting objects: 100% (4/4), done.\u001b[K\n",
      "remote: Compressing objects: 100% (4/4), done.\u001b[K\n",
      "remote: Total 229 (delta 0), reused 0 (delta 0), pack-reused 225\u001b[K\n",
      "Receiving objects: 100% (229/229), 1.21 MiB | 1.15 MiB/s, done.\n",
      "Resolving deltas: 100% (132/132), done.\n"
     ]
    }
   ],
   "source": [
    "#TextRank \n",
    "!git clone https://github.com/lovit/textrank.git "
   ]
  },
  {
   "cell_type": "code",
   "execution_count": null,
   "metadata": {
    "colab": {},
    "colab_type": "code",
    "id": "gKxAGtBji67x"
   },
   "outputs": [],
   "source": [
    "#konlpy 설치\n",
    "!apt-get update \n",
    "!apt-get install g++ openjdk-8-jdk python-dev python3-dev \n",
    "import os\n",
    "os.environ['JAVA_HOME']=\"C:\\Program Files\\Java\\jdk-14.0.2\" #환경변수 설정, jdk파일 위치 변경 필요\n",
    "!pip3 install JPype1-py3 \n",
    "!pip3 install konlpy \n",
    "\n"
   ]
  },
  {
   "cell_type": "code",
   "execution_count": null,
   "metadata": {
    "colab": {},
    "colab_type": "code",
    "id": "NzyTyT2Wi644"
   },
   "outputs": [],
   "source": [
    "#textrank에서 사용하기 위한 토크나이저 설정\n",
    "from konlpy.tag import Komoran\n",
    "komoran = Komoran()\n",
    "def komoran_tokenize(sent):\n",
    "  words = komoran.pos(sent, join = True)\n",
    "  words = [w for w in words if ('/NN' in w  )]\n",
    "  return words"
   ]
  },
  {
   "cell_type": "code",
   "execution_count": null,
   "metadata": {
    "colab": {},
    "colab_type": "code",
    "id": "_7a7fuVKi63b"
   },
   "outputs": [],
   "source": [
    "from konlpy.tag import Kkma\n",
    "kkma = Kkma()\n",
    "scripts = []\n",
    "with open('/content/drive/My Drive/hana_scripts.txt', 'r') as f:\n",
    "  para = f.readlines()\n",
    "  for line in para:\n",
    "    scripts.append(line.rstrip())\n",
    "\n",
    "ex_sent = []\n",
    "for sen in scripts:\n",
    "  ex_sent.extend( kkma.sentences(sen))\n",
    "ex_sent"
   ]
  },
  {
   "cell_type": "code",
   "execution_count": null,
   "metadata": {
    "colab": {
     "base_uri": "https://localhost:8080/",
     "height": 550
    },
    "colab_type": "code",
    "id": "GylblvMoi61f",
    "outputId": "d2349d8c-1e4e-4a2f-f358-b46bf34d343f"
   },
   "outputs": [
    {
     "data": {
      "text/plain": [
       "[('제가/NNP', 12.557587434127214),\n",
       " ('거/NNB', 9.597954430218113),\n",
       " ('번/NNB', 9.179452651652655),\n",
       " ('수/NNB', 7.7172574397021325),\n",
       " ('종목/NNG', 7.699675553842317),\n",
       " ('것/NNB', 7.4083969641411285),\n",
       " ('정도/NNG', 6.322258367911082),\n",
       " ('이야기/NNG', 6.184399981858938),\n",
       " ('원/NNB', 5.121093939085212),\n",
       " ('쪽/NNB', 4.780305045290305),\n",
       " ('오늘/NNG', 4.676719000744266),\n",
       " ('때문/NNB', 4.664997493692524),\n",
       " ('생각/NNG', 4.461022908772559),\n",
       " ('관련/NNG', 3.936717988305337),\n",
       " ('말씀/NNG', 3.2467479321064814),\n",
       " ('분/NNB', 2.899673701155891),\n",
       " ('자/NNB', 2.6470932360727413),\n",
       " ('다음/NNG', 2.3961293687030873),\n",
       " ('부분/NNG', 2.325642496268078),\n",
       " ('최근/NNG', 2.2647318308504722),\n",
       " ('코로나/NNP', 1.956678592328894),\n",
       " ('비중/NNG', 1.936460355542995),\n",
       " ('날/NNG', 1.8937862271341666),\n",
       " ('그때/NNG', 1.8372585197767948),\n",
       " ('테크/NNG', 1.8135930154483484),\n",
       " ('때/NNG', 1.7078774805500694),\n",
       " ('다음/NNP', 1.5953239332290439),\n",
       " ('이유/NNG', 1.5874103298410733),\n",
       " ('티/NNG', 1.4839793647078334),\n",
       " ('절반/NNG', 1.4763796806656644)]"
      ]
     },
     "execution_count": 8,
     "metadata": {
      "tags": []
     },
     "output_type": "execute_result"
    }
   ],
   "source": [
    "import sys\n",
    "sys.path.append('/content/textrank/textrank')\n",
    "\n",
    "from summarizer import KeywordSummarizer\n",
    "keyword_extractor = KeywordSummarizer(tokenize = komoran_tokenize, window =1, verbose = False)\n",
    "\n",
    "keywords = keyword_extractor.summarize(scripts, topk = 30)\n",
    "keywords"
   ]
  },
  {
   "cell_type": "code",
   "execution_count": null,
   "metadata": {
    "colab": {
     "base_uri": "https://localhost:8080/",
     "height": 712
    },
    "colab_type": "code",
    "id": "GEwF6kkCi6z4",
    "outputId": "49f1a9ef-eb77-43c8-fcc9-3d8fc417243c"
   },
   "outputs": [
    {
     "data": {
      "text/plain": [
       "[(533,\n",
       "  3.829464297708822,\n",
       "  '그래서 어떻게 될지 모르겠지만 어쨌든 앞으로 이 관련된 내용들을 계속 해서 업데이트는 해야 될 필요가 있을 거 같고 2 차 전지 관련주 전반적으로 지금 저녁을 바꿨기 때문에 좀 쉬어 가는 과정을 정도로 생각을 하면 돼 그리고 저는 절반 팔고 나머지 잘난 비중에 대해서는 지난번 상한 것 같던 양봉을 이탈하지 않으면 이따 가지 않으면 나머지 비중은 뭐 좀 더 보기로 하고 만약에 진짜 깨고 내려 간다 그러면 나머지 제반비용은 아깝지만 그냥 팔아 버려 야죠 그저 그렇게 한번 나눠 주고 만약에 이게 주가가 2만 5천 원 밑으로 흔들려 준다 그러면 양복이 색깔을 22,800원을 리스크 관리 가격으로 설정을 하고 한번 트레이딩을 한번 없으신 분들은 좀 해 볼 만한 기회가 올 수도 있겠죠'),\n",
       " (474,\n",
       "  3.0314429170391897,\n",
       "  '7월 8일 날 솔리드가 단기적으로 이유가 있다 자세한 이야기는 제가 뭐 그때 선전하는 드렸지만 어쨌든 삼성 블록 체인 위주 그다음에 플러스 솔리드까지 5G 관련된 종목들을 봄에 봐야 된 다라는 이야기를 드렸고 그 다음에 그때 2 차 전지 나노 신소재 코스 모신 소재 남겨 드렸고 그 다음에 인도와 중국의 분쟁으로 내서 it 부품 주 쪽수 얘가 이상하게 된다 왜 있는 쪽에 많은데 중국의 우리가 경쟁을 하고 있는 스마트 폰 중국 회사들이 중국에서 인도에서 스마트 폰 판매가 못 하게 되면 삼성전자의 스마트 폰이 잘 나갈 거고 LG 전자의 스마트 폰이 잘 나왔고 고 it 부품들을 잡아야 된다'),\n",
       " (506,\n",
       "  2.513925352313714,\n",
       "  '자 이 두 개 시가 총액이 올라가니까 상대적으로 덜 오는 거 좀 싼 거 시장에서 찾게 되면 코스 모신 소재까지 도 시선이 돌아올 수 있으니까 코스 모신 소재 너도 한번 해 볼 만하다 다른 관점으로 제가 7월 8일 녹음을 하면 되는데 이거는 뭐 제가 이차 전지 관련주들이 몇 몇 종목 제대하면 좀 쉬다 보니까 올라가는 것도 없으면서 같이 쉬고 있네요'),\n",
       " (187,\n",
       "  2.246413208900664,\n",
       "  '나오고 긍정적으로 생각해 볼 수 있고 이번 주 금요일 정도 뭐 며칠 이렇게 받는데 비실비실 휴가 없음에도 불구하고 내각제가 파악되지 않음에도 불구하고 이 주가를 해 보고 가지 못하고 늘 거린다 아 그때는 나도 창원으로 한번 전략을 또 바꿔 볼 수도 있고 지금 당장은 x는 뭐지 할 필요는 없을 것 같아 왜냐하면 자 현재 시가 총액을 보면 2차 2차 300을 기준입니다'),\n",
       " (232,\n",
       "  2.094966953701468,\n",
       "  '말씀드리겠지만 아직 까지 왜 추가적으로 제가 다른 이유가 파악이 안 되고 있기 때문에 혹시나 다른 이슈가 있을지 모르니까 부분은 정도 제가 체크해 보고 보고 어 이거는 여기에 다 되면 없으신 분들은 싸게 살 수 있는 기회라고 화면 대로 드릴 텐데 아직 고객 명확하게 저도 체크를 이렇게 저한테 나라 세우 소서 아직 가지고 뭐 특별한 건 없는데 혹시나 제가 안 되고 있는 게 있을 수도 있으니까 좀 더 체크를 해서 혹시 없는 분들한테 는 기회가 될 수 있으면 그 부분을 말씀을 드릴 겁니다'),\n",
       " (576, 1.9791720380289637, '터지지 않는 종목은 뭐 늘 제가 먼저 드리세요'),\n",
       " (575,\n",
       "  1.9536606060003732,\n",
       "  '사이언스 데 미지를 다른 종목으로 이렇게 많이 시켜 부리는 거 그나마 이런 것 들을 제가 빨리빨리 좀 또 우리 회복시켜야 드릴 수 있는 게 제가 여러분들한테 도와 드릴 수 있는 그런 부분은 거 같습니다'),\n",
       " (140, 1.9206904563378537, '왜냐하면 자 마스크 관련주 제가 여러분들께 이야기해 어떤 종목이 여기 있나'),\n",
       " (252,\n",
       "  1.906386755513076,\n",
       "  '오늘 제가 이제 그 딴 포트폴리오 이제 업데이트를 해 드리면서 이야기 해 드렸던 종목 중에 하나가 우리 업데이트만 조금 먼저 해 볼게요'),\n",
       " (219,\n",
       "  1.9038317122462916,\n",
       "  '애들이 보고 그런 게 없으면 답장은 3만 3천 원 정도로 생각하고 있고 2 분기 실적 다시 한번 가지고 안 볼 거고 발표까지 먹으면 여러 가지 전략을 머리 속에 넣어 두고 그 결과에 따라서 전략 수정이 따라서는 여러분들께 오늘처럼 제가 다 글로 다 보내'),\n",
       " (468,\n",
       "  1.873102516895841,\n",
       "  '최근의 코멘트 드렸던 종목들 위주로 우리 포트폴리오 종목 말고 그냥 여러분들 초보자 분들 왜 여러분들 쓰로 틀 링 하실 수 있는 분들은 해서 제가 좀 유망하게 보이는 것 들 이야기들을 계속해서 해 드리고 있는데 종 목도 위주로 점검을 잠깐 해 볼게'),\n",
       " (250,\n",
       "  1.871251497527577,\n",
       "  '어쨌든 이거를 또 듣고 또 이겨 내는 게 제가 하는 역할이고 여러분들께 제가 할 수 있는 국회의원으로서의 소신대로 또 해야 되는 부분이기 때문에 저는 또 한번 다음 종목을 안 먹고 밑으로 넘어가도록 그렇게 하겠습니다'),\n",
       " (559,\n",
       "  1.797954722311362,\n",
       "  '4만 원 요거 깨지 않으면 일단 테크놀로지는 기본적으로 우리가 전기 7,000원 시가 총액을 목표로 제가 세워 드렸기 때문에 거기까지 가 볼 거고 만약에 7천 원 밑으로 내려 온다 일단 최소 절반은 팔고 기다린다 그렇게 한번 생각해 주시기 바랍니다'),\n",
       " (313,\n",
       "  1.7926649450119636,\n",
       "  '무슨 이야기 하면 c h가 이제 됐다 필요하니까 미국의 미국의 주가를 한번 보시면 자 미국의 캐터필러의 주가는 제가 아침에 글을 써 드린 것처럼 날은 경주 하잖아요')]"
      ]
     },
     "execution_count": 10,
     "metadata": {
      "tags": []
     },
     "output_type": "execute_result"
    }
   ],
   "source": [
    "from summarizer import KeysentenceSummarizer\n",
    "\n",
    "summarizer = KeysentenceSummarizer(tokenize = komoran_tokenize, min_sim = 0.7)\n",
    "keysents = summarizer.summarize(ex_sent, topk=14)\n",
    "keysents"
   ]
  },
  {
   "cell_type": "code",
   "execution_count": null,
   "metadata": {
    "colab": {},
    "colab_type": "code",
    "id": "4064ql3GjANM"
   },
   "outputs": [],
   "source": [
    "scr_time = []\n",
    "with open('/content/drive/My Drive/hanascripts_timestamps_ver2.txt', 'r') as f:\n",
    "  data = f.readlines()\n",
    "  for line in data:\n",
    "   scr_time.append(line.rstrip())\n",
    "new_scr_time = []\n",
    "for w in scr_time:\n",
    "    new_scr_time.append(w.split(', '))\n",
    "new_scr_time"
   ]
  },
  {
   "cell_type": "code",
   "execution_count": null,
   "metadata": {
    "colab": {},
    "colab_type": "code",
    "id": "D1QXWBM3jALW"
   },
   "outputs": [],
   "source": [
    "import numpy as np\n",
    "new_scripts = []\n",
    "with open('/content/drive/My Drive/hana_script.txt', 'r') as f:\n",
    "  para = f.readlines()\n",
    "  for line in para:\n",
    "    line.replace('\\n', ' ')\n",
    "    new_scripts.append(line)\n",
    "new_scripts = np.array(new_scripts)\n",
    "new_scr = ''\n",
    "for w in new_scripts:\n",
    "  new_scr += w\n",
    "new_scr = new_scr.replace(\"\\n\", ' ')\n",
    "new_scr = new_scr.split(' ')\n",
    "\n",
    "#new_scr[0].split(' ')\n",
    "new_scr"
   ]
  },
  {
   "cell_type": "code",
   "execution_count": null,
   "metadata": {
    "colab": {},
    "colab_type": "code",
    "id": "B4YiC--ojAIC"
   },
   "outputs": [],
   "source": [
    "ex_sent"
   ]
  },
  {
   "cell_type": "code",
   "execution_count": null,
   "metadata": {
    "colab": {
     "base_uri": "https://localhost:8080/",
     "height": 300
    },
    "colab_type": "code",
    "id": "gXUfnkU0jAF7",
    "outputId": "71d0ba9c-3d3f-4085-fe02-94ab27b54c8f",
    "scrolled": false
   },
   "outputs": [
    {
     "name": "stdout",
     "output_type": "stream",
     "text": [
      "['다', '어제', '9시', 'SK', '하이닉스가', '실적발표를', '했는데요', '그', '2', '분기', '내용은', '좋았지만', '삼사', '분기에', '계속', '그', '이해', '하라고', '할', '것', '같습니다']\n",
      "['이런', '부분들이', '결국은', '아이', '유럽', '유럽', '국가들의', '위기상황에서의', '대흥', '역에서', '높여', '주는', '그동안', '약점으로', '압구정', '저희가', '봤던', '해결되는', '부분으로', '보증', '될', '거', '같고', '이', '가운데서', '일단은', '외환시장', '분위기는', '애', '나는', '정책은행', '보세구역', '원', '달러', '환율', '만', '보셔도', '변동성이', '상당히', '달러', '인덱스', '하라고', '하는', '거에', '비해서', '움직이지', '않고', '있다는', '거', '줄', '수', '있을', '것', '같습니다']\n",
      "['그', '간밤에', '관련', '주인', '미국', '엠에스', '원', '디지털', '5%', '이상', '상승했고', '마이크론', '2일', '퍼센트', '정도', '상승을', '했거든요', '세율을', '말씀을', '드리면', '어제', 'SK', '하이닉스', '발표', '내용', '중에', '좀', '내용이', '너무', '좋았습니다']\n",
      "['앞으로', '한국은행이', '언제쯤', '다시', '이상', '할', '수', '있느냐에', '대해서는', '일단', 'GDP가', '장기적인', '성장', '경로에', '근접하지', '정도까지', '회복될', '필요가', '있는데요', '2008년', '금융위기', '당시를', '되돌아보면', '상당히', '오랜', '시간이', '걸렸습니다']\n",
      "['LG', '디', '스프레이', '도저히', '실적발표가', '있었고요']\n",
      "['실적', '예상보다', '잘', '나올', '걸로', '예상을', '하고', '있기', '때문에', '전체적으로', '좀', '긍정적인', '관점', '유지한', '다라고', '보시면', '될', '거', '같고요']\n",
      "['현대', '기아', '2', '분기', '각각', '실적이', '예상보다', '좋았습니다']\n",
      "['리', '츠', '자료', '최상용', '발표', '드릴', '거', '고요', '그리고', '질문', '주셨던', '태영', '건설', '관련해서', '말씀', '드리도록', '하겠습니다']\n",
      "['특히', '원리', '리', '모바일', '저', '작년에', '1조', '적자가', '나온', '사업', '본데', '분기', 'BP', '수준까지', '개선될', '것으로', '보고', '있고요']\n",
      "['한독', '크린텍', '예상이', '근거로는', '그', '저희', '정', '수기', '시장', '내', '정수기', '내', '필수', '필터인', '카본', '블럭', '필터를', '생산하는', '기업인데요', '코로나', '19', '해도', '변태', '판매처는', '통해서', '국내에', '정수기', '계정', '추가', '계속', '증가', '하면서', '저희가', '우려했던', '과', '달리', '시장이', '지속적으로', '성장하는', '것을', '파악해서', '그', '저희가', '그', '오래', 'no', '계속', '매출', '성장', '있을', '것을', '제가', '파악해서', '상황을', '하려고', '하고', '있습니다']\n",
      "['지금', '일단은', '그', '1차', '세제개혁', '한들', '뭐', '찾으시는', '그동안', '정치', '확실성들을', '커지면서', '불가', '하다라고', '인제', '인식이', '좀', '됐던', '부분들이', '그냥', '조심스럽게', '계속되고', '있는', '분들이', '일단은', '재정', '측면에서', '그리고', '또', '경제', '측면에서', '긍정적인', '역할을', '할', '수', '있을걸']\n",
      "['그', '2', '분기', '실적은', '매출액', '영업이익', '248억원', '글', '영업이', '21억원으로', '꾸준히', '성장할', '수', '있을', '것으로', '저희가', '보고', '있고', '2020년에', '김', '혜', '주', '621호', '건', '영업이', '90억원으로', '큰', '폭의', '성장이', '있을', '것으로', '저희가', '판단하고', '있습니다']\n",
      "['이번', '실적은', '전체적으로', '제클라우드', '부분에서', '이제', '실적이', '잘', '나왔고', '그', '다음에', '락', '다운', '관련해서', '게임', '관련된', '부분하고', '관련', '서비스', '매출하고', '다음에', '이제', '그', '하드웨어', '매출', '이런', '부분이', '고르게', '성장을', '하면서', '전체적으로', '실적이', '잘', '나왔고요']\n",
      "['중국', '증시는', '경기회복', '기대감', '커진', '가운데', '미', '중', '갈등', '우려가', '고조되면', '혼', '조', '마감했습니다']\n"
     ]
    },
    {
     "data": {
      "text/plain": [
       "[193, 60, 204, 32, 211, 79, 114, 140, 223, 184, 62, 188, 77, 11]"
      ]
     },
     "execution_count": 16,
     "metadata": {
      "tags": []
     },
     "output_type": "execute_result"
    }
   ],
   "source": [
    "key_sen_arr = []\n",
    "time_arr = []\n",
    "idx_arr = []\n",
    "for i in range(len(keysents)):\n",
    "  flag = 0\n",
    "  tmp2 = 0\n",
    "  line = keysents[i][2].split(' ')\n",
    "  for idx, sen in enumerate(ex_sent):\n",
    "    n_sen = sen.split(' ')\n",
    "    if n_sen == line:\n",
    "      idx_arr.append(idx)\n",
    "      print(n_sen)\n",
    "idx_arr"
   ]
  },
  {
   "cell_type": "code",
   "execution_count": null,
   "metadata": {
    "colab": {},
    "colab_type": "code",
    "id": "1z1hCSoijAD0"
   },
   "outputs": [],
   "source": [
    "cnt_arr = []\n",
    "ex_split = []\n",
    "for w in scripts:\n",
    "  ex_split.append(w.split(' '))\n",
    "print(ex_split)\n",
    "#print(ex_split[193])\n",
    "#print(len(ex_split[193]))\n",
    "\n",
    "for num in idx_arr:\n",
    "  sum = 0\n",
    "  for j in range(num):\n",
    "    sum+= len(ex_sent[j])\n",
    "  cnt_arr.append(sum)\n",
    "print(ex_sent[193])\n",
    "print(len(ex_sent[193]))\n",
    "cnt_arr"
   ]
  },
  {
   "cell_type": "code",
   "execution_count": null,
   "metadata": {
    "colab": {},
    "colab_type": "code",
    "id": "HWDU9ydpjAA9"
   },
   "outputs": [],
   "source": [
    "time_arr = []\n",
    "print(len(new_scr_time))\n",
    "for idx in cnt_arr:\n",
    "  print(idx)\n",
    "  if(idx < len(new_scr_time)):\n",
    "    time_arr.append(int(new_scr_time[idx][1]))\n",
    "    print(new_scr_time[idx][0])\n",
    "time_arr = np.array(time_arr)\n",
    "time_arr = np.sort(time_arr)\n",
    "time_arr"
   ]
  },
  {
   "cell_type": "code",
   "execution_count": null,
   "metadata": {
    "colab": {},
    "colab_type": "code",
    "id": "_rBgzEZwi6wN"
   },
   "outputs": [],
   "source": []
  }
 ],
 "metadata": {
  "colab": {
   "collapsed_sections": [],
   "name": "TextRank.ipynb",
   "provenance": []
  },
  "kernelspec": {
   "display_name": "Python 3",
   "language": "python",
   "name": "python3"
  },
  "language_info": {
   "codemirror_mode": {
    "name": "ipython",
    "version": 3
   },
   "file_extension": ".py",
   "mimetype": "text/x-python",
   "name": "python",
   "nbconvert_exporter": "python",
   "pygments_lexer": "ipython3",
   "version": "3.7.7"
  }
 },
 "nbformat": 4,
 "nbformat_minor": 1
}
